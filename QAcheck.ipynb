{
  "nbformat": 4,
  "nbformat_minor": 0,
  "metadata": {
    "colab": {
      "name": "QAcheck.ipynb",
      "provenance": [],
      "collapsed_sections": [],
      "authorship_tag": "ABX9TyPiCTcHrFTutXHD2xHaQx3T",
      "include_colab_link": true
    },
    "kernelspec": {
      "name": "python3",
      "display_name": "Python 3"
    },
    "language_info": {
      "name": "python"
    }
  },
  "cells": [
    {
      "cell_type": "markdown",
      "metadata": {
        "id": "view-in-github",
        "colab_type": "text"
      },
      "source": [
        "<a href=\"https://colab.research.google.com/github/RhiannaSun/Data-Analysis-project-on-COVID-19/blob/master/QAcheck.ipynb\" target=\"_parent\"><img src=\"https://colab.research.google.com/assets/colab-badge.svg\" alt=\"Open In Colab\"/></a>"
      ]
    },
    {
      "cell_type": "code",
      "metadata": {
        "id": "Ga9YJSpybW9b"
      },
      "source": [
        "import pandas as pd\n",
        "import numpy as np\n",
        "import matplotlib.pyplot as plt\n",
        "plt.style.use('ggplot')\n",
        "\n",
        "pd.set_option('display.float_format', lambda x: '%.3f' % x)"
      ],
      "execution_count": 9,
      "outputs": []
    },
    {
      "cell_type": "code",
      "metadata": {
        "id": "9Me1NdQpbewa"
      },
      "source": [
        "xls = pd.ExcelFile('/content/orginal_fil.xlsx')\n",
        "df1 = pd.read_excel(xls, 'Q4 2013 Raw Data')"
      ],
      "execution_count": 3,
      "outputs": []
    },
    {
      "cell_type": "markdown",
      "metadata": {
        "id": "ZtZ_2APFIllN"
      },
      "source": [
        "## Data Inspection"
      ]
    },
    {
      "cell_type": "code",
      "metadata": {
        "colab": {
          "base_uri": "https://localhost:8080/"
        },
        "id": "bwPYsAG0dGgo",
        "outputId": "fd90a4b8-6b96-4107-e958-a7b284478788"
      },
      "source": [
        "df1.dtypes"
      ],
      "execution_count": 4,
      "outputs": [
        {
          "output_type": "execute_result",
          "data": {
            "text/plain": [
              "Deal ID                   object\n",
              "Units Sold               float64\n",
              "Billings                 float64\n",
              "Start Date        datetime64[ns]\n",
              "Deal URL                  object\n",
              "Segment                   object\n",
              "Inventory Type            object\n",
              "dtype: object"
            ]
          },
          "metadata": {},
          "execution_count": 4
        }
      ]
    },
    {
      "cell_type": "code",
      "metadata": {
        "id": "dffxjWJDdUZU"
      },
      "source": [
        "df = df1[['Deal ID', 'Units Sold', 'Billings', 'Start Date', 'Deal URL', 'Segment', 'Inventory Type']]"
      ],
      "execution_count": 43,
      "outputs": []
    },
    {
      "cell_type": "code",
      "metadata": {
        "colab": {
          "base_uri": "https://localhost:8080/"
        },
        "id": "anc405zN3ydO",
        "outputId": "a9afc41e-7cdd-4405-ba7b-e1ef585a128f"
      },
      "source": [
        "print(f'There is {df.duplicated().sum()} duplicate rows')"
      ],
      "execution_count": 113,
      "outputs": [
        {
          "output_type": "stream",
          "name": "stdout",
          "text": [
            "There is 0 duplicate rows\n"
          ]
        }
      ]
    },
    {
      "cell_type": "code",
      "metadata": {
        "colab": {
          "base_uri": "https://localhost:8080/"
        },
        "id": "-PfdxYDP4oWF",
        "outputId": "7ae33a65-136b-4c69-e862-10fc334efe92"
      },
      "source": [
        "print(\" \\nCount total NaN at each column in a DataFrame : \\n\\n\",\n",
        "      df.isnull().sum())"
      ],
      "execution_count": 115,
      "outputs": [
        {
          "output_type": "stream",
          "name": "stdout",
          "text": [
            " \n",
            "Count total NaN at each column in a DataFrame : \n",
            "\n",
            " Deal ID           0\n",
            "Units Sold        0\n",
            "Billings          0\n",
            "Start Date        0\n",
            "Deal URL          0\n",
            "Segment           0\n",
            "Inventory Type    0\n",
            "dtype: int64\n"
          ]
        }
      ]
    },
    {
      "cell_type": "code",
      "metadata": {
        "colab": {
          "base_uri": "https://localhost:8080/"
        },
        "id": "jgEFPx7F6BG1",
        "outputId": "8899e629-e910-48c8-cd88-0094fc2924e4"
      },
      "source": [
        "print(\" \\nCount total Zeros at each column in a DataFrame : \\n\\n\",\n",
        "      (df == 0).sum(axis=0))"
      ],
      "execution_count": 122,
      "outputs": [
        {
          "output_type": "stream",
          "name": "stdout",
          "text": [
            " \n",
            "Count total Zeros at each column in a DataFrame : \n",
            "\n",
            " Deal ID               0\n",
            "Units Sold        26774\n",
            "Billings          26774\n",
            "Start Date            0\n",
            "Deal URL              0\n",
            "Segment               0\n",
            "Inventory Type        0\n",
            "dtype: int64\n"
          ]
        }
      ]
    },
    {
      "cell_type": "code",
      "metadata": {
        "colab": {
          "base_uri": "https://localhost:8080/",
          "height": 204
        },
        "id": "HYyfrwN2fDwO",
        "outputId": "278e96a1-bbfb-4308-d73f-5f66ce0f6ee4"
      },
      "source": [
        "df.head(5)"
      ],
      "execution_count": 28,
      "outputs": [
        {
          "output_type": "execute_result",
          "data": {
            "text/html": [
              "<div>\n",
              "<style scoped>\n",
              "    .dataframe tbody tr th:only-of-type {\n",
              "        vertical-align: middle;\n",
              "    }\n",
              "\n",
              "    .dataframe tbody tr th {\n",
              "        vertical-align: top;\n",
              "    }\n",
              "\n",
              "    .dataframe thead th {\n",
              "        text-align: right;\n",
              "    }\n",
              "</style>\n",
              "<table border=\"1\" class=\"dataframe\">\n",
              "  <thead>\n",
              "    <tr style=\"text-align: right;\">\n",
              "      <th></th>\n",
              "      <th>Deal ID</th>\n",
              "      <th>Units Sold</th>\n",
              "      <th>Billings</th>\n",
              "      <th>Start Date</th>\n",
              "      <th>Deal URL</th>\n",
              "      <th>Segment</th>\n",
              "      <th>Inventory Type</th>\n",
              "      <th>Unit Price</th>\n",
              "    </tr>\n",
              "  </thead>\n",
              "  <tbody>\n",
              "    <tr>\n",
              "      <th>0</th>\n",
              "      <td>gr-millevois-tire-service-center</td>\n",
              "      <td>0.000</td>\n",
              "      <td>0.000</td>\n",
              "      <td>2011-11-21</td>\n",
              "      <td>http://www.groupon.com/deals/gr-millevois-tire...</td>\n",
              "      <td>Local</td>\n",
              "      <td>Third - Party</td>\n",
              "      <td>nan</td>\n",
              "    </tr>\n",
              "    <tr>\n",
              "      <th>1</th>\n",
              "      <td>gr-manakeesh-cafe-bakery</td>\n",
              "      <td>0.000</td>\n",
              "      <td>0.000</td>\n",
              "      <td>2011-11-21</td>\n",
              "      <td>http://www.groupon.com/deals/gr-manakeesh-cafe...</td>\n",
              "      <td>Local</td>\n",
              "      <td>Third - Party</td>\n",
              "      <td>nan</td>\n",
              "    </tr>\n",
              "    <tr>\n",
              "      <th>2</th>\n",
              "      <td>gr-phoenix-salon-and-spa</td>\n",
              "      <td>0.000</td>\n",
              "      <td>0.000</td>\n",
              "      <td>2011-11-21</td>\n",
              "      <td>http://www.groupon.com/deals/gr-phoenix-salon-...</td>\n",
              "      <td>Local</td>\n",
              "      <td>Third - Party</td>\n",
              "      <td>nan</td>\n",
              "    </tr>\n",
              "    <tr>\n",
              "      <th>3</th>\n",
              "      <td>gr-hands-in-motion</td>\n",
              "      <td>0.000</td>\n",
              "      <td>0.000</td>\n",
              "      <td>2011-11-21</td>\n",
              "      <td>http://www.groupon.com/deals/gr-hands-in-motion</td>\n",
              "      <td>Local</td>\n",
              "      <td>Third - Party</td>\n",
              "      <td>nan</td>\n",
              "    </tr>\n",
              "    <tr>\n",
              "      <th>4</th>\n",
              "      <td>dc-fd2-bartending-college-allentown-reading</td>\n",
              "      <td>86.800</td>\n",
              "      <td>4253.200</td>\n",
              "      <td>2012-06-06</td>\n",
              "      <td>http://www.groupon.com/deals/dc-fd2-bartending...</td>\n",
              "      <td>Local</td>\n",
              "      <td>Third - Party</td>\n",
              "      <td>49.000</td>\n",
              "    </tr>\n",
              "  </tbody>\n",
              "</table>\n",
              "</div>"
            ],
            "text/plain": [
              "                                       Deal ID  ...  Unit Price\n",
              "0             gr-millevois-tire-service-center  ...         nan\n",
              "1                     gr-manakeesh-cafe-bakery  ...         nan\n",
              "2                     gr-phoenix-salon-and-spa  ...         nan\n",
              "3                           gr-hands-in-motion  ...         nan\n",
              "4  dc-fd2-bartending-college-allentown-reading  ...      49.000\n",
              "\n",
              "[5 rows x 8 columns]"
            ]
          },
          "metadata": {},
          "execution_count": 28
        }
      ]
    },
    {
      "cell_type": "code",
      "metadata": {
        "colab": {
          "base_uri": "https://localhost:8080/",
          "height": 359
        },
        "id": "5VyrTIO96fbK",
        "outputId": "193e663f-a66d-4925-f32b-dd66b2c4259a"
      },
      "source": [
        "df['remove_www'] = df['Deal URL'].apply(lambda x: x[29:])\n",
        "df[df['Deal ID'] != df['remove_www']].head(10)"
      ],
      "execution_count": 140,
      "outputs": [
        {
          "output_type": "execute_result",
          "data": {
            "text/html": [
              "<div>\n",
              "<style scoped>\n",
              "    .dataframe tbody tr th:only-of-type {\n",
              "        vertical-align: middle;\n",
              "    }\n",
              "\n",
              "    .dataframe tbody tr th {\n",
              "        vertical-align: top;\n",
              "    }\n",
              "\n",
              "    .dataframe thead th {\n",
              "        text-align: right;\n",
              "    }\n",
              "</style>\n",
              "<table border=\"1\" class=\"dataframe\">\n",
              "  <thead>\n",
              "    <tr style=\"text-align: right;\">\n",
              "      <th></th>\n",
              "      <th>Deal ID</th>\n",
              "      <th>Units Sold</th>\n",
              "      <th>Billings</th>\n",
              "      <th>Start Date</th>\n",
              "      <th>Deal URL</th>\n",
              "      <th>Segment</th>\n",
              "      <th>Inventory Type</th>\n",
              "      <th>remove_www</th>\n",
              "    </tr>\n",
              "  </thead>\n",
              "  <tbody>\n",
              "    <tr>\n",
              "      <th>63856</th>\n",
              "      <td>american-apparel-us-boise</td>\n",
              "      <td>1689.500</td>\n",
              "      <td>57770.000</td>\n",
              "      <td>2013-11-18</td>\n",
              "      <td>http://www.groupon.com/deals/american-apparel-...</td>\n",
              "      <td>Local</td>\n",
              "      <td>Third - Party</td>\n",
              "      <td>american-apparel-us-boise?utm_campaign=3383227...</td>\n",
              "    </tr>\n",
              "    <tr>\n",
              "      <th>64051</th>\n",
              "      <td>chefo-s-pancake-house</td>\n",
              "      <td>294.300</td>\n",
              "      <td>2207.250</td>\n",
              "      <td>2013-11-18</td>\n",
              "      <td>http://www.groupon.com/deals/chefo-s-pancake-h...</td>\n",
              "      <td>Local</td>\n",
              "      <td>Third - Party</td>\n",
              "      <td>chefo-s-pancake-house?utm_medium=email&amp;utm_sou...</td>\n",
              "    </tr>\n",
              "    <tr>\n",
              "      <th>64054</th>\n",
              "      <td>hands-on-healing-massage-therapy-2</td>\n",
              "      <td>74.400</td>\n",
              "      <td>2901.600</td>\n",
              "      <td>2013-11-18</td>\n",
              "      <td>http://www.groupon.com/deals/hands-on-healing-...</td>\n",
              "      <td>Local</td>\n",
              "      <td>Third - Party</td>\n",
              "      <td>hands-on-healing-massage-therapy-2?utm_medium=...</td>\n",
              "    </tr>\n",
              "    <tr>\n",
              "      <th>64116</th>\n",
              "      <td>glendale-urgent-care-medical-group</td>\n",
              "      <td>29.800</td>\n",
              "      <td>4936.200</td>\n",
              "      <td>2013-11-18</td>\n",
              "      <td>http://www.groupon.com/deals/glendale-urgent-c...</td>\n",
              "      <td>Local</td>\n",
              "      <td>Third - Party</td>\n",
              "      <td>glendale-urgent-care-medical-group?utm_campaig...</td>\n",
              "    </tr>\n",
              "    <tr>\n",
              "      <th>64134</th>\n",
              "      <td>american-apparel-us-ventura-county</td>\n",
              "      <td>461.900</td>\n",
              "      <td>15800.000</td>\n",
              "      <td>2013-11-18</td>\n",
              "      <td>http://www.groupon.com/deals/american-apparel-...</td>\n",
              "      <td>Local</td>\n",
              "      <td>Third - Party</td>\n",
              "      <td>american-apparel-us-ventura-county?utm_campaig...</td>\n",
              "    </tr>\n",
              "    <tr>\n",
              "      <th>65124</th>\n",
              "      <td>ga-treetops-resort-4</td>\n",
              "      <td>457.800</td>\n",
              "      <td>45322.200</td>\n",
              "      <td>2013-11-19</td>\n",
              "      <td>http://www.groupon.com/deals/ga-treetops-resor...</td>\n",
              "      <td>Travel</td>\n",
              "      <td>Third - Party</td>\n",
              "      <td>ga-treetops-resort-4?utm_campaign=us_dt_sea_gg...</td>\n",
              "    </tr>\n",
              "    <tr>\n",
              "      <th>65344</th>\n",
              "      <td>american-apparel-us-appleton</td>\n",
              "      <td>47.200</td>\n",
              "      <td>1569.000</td>\n",
              "      <td>2013-11-19</td>\n",
              "      <td>http://www.groupon.com/deals/american-apparel-...</td>\n",
              "      <td>Local</td>\n",
              "      <td>Third - Party</td>\n",
              "      <td>american-apparel-us-appleton?utm_medium=email&amp;...</td>\n",
              "    </tr>\n",
              "    <tr>\n",
              "      <th>65496</th>\n",
              "      <td>gg-7in-8gb-samsung-galaxy-tab-2</td>\n",
              "      <td>1674.400</td>\n",
              "      <td>217655.256</td>\n",
              "      <td>2013-11-20</td>\n",
              "      <td>http://www.groupon.com/deals/gg-7in-8gb-samsun...</td>\n",
              "      <td>Goods</td>\n",
              "      <td>Third - Party</td>\n",
              "      <td>gg-7in-8gb-samsung-galaxy-tab-2?utm_campaign=u...</td>\n",
              "    </tr>\n",
              "    <tr>\n",
              "      <th>65739</th>\n",
              "      <td>thai-taste-1</td>\n",
              "      <td>730.300</td>\n",
              "      <td>10954.500</td>\n",
              "      <td>2013-11-20</td>\n",
              "      <td>http://www.groupon.com/deals/thai-taste-1?utm_...</td>\n",
              "      <td>Local</td>\n",
              "      <td>Third - Party</td>\n",
              "      <td>thai-taste-1?utm_medium=email&amp;utm_source=newsl...</td>\n",
              "    </tr>\n",
              "    <tr>\n",
              "      <th>65808</th>\n",
              "      <td>yesvideo-9</td>\n",
              "      <td>24.800</td>\n",
              "      <td>495.752</td>\n",
              "      <td>2013-11-20</td>\n",
              "      <td>http://www.groupon.com/deals/yesvideo-9?utm_ca...</td>\n",
              "      <td>Local</td>\n",
              "      <td>Third - Party</td>\n",
              "      <td>yesvideo-9?utm_campaign=livingstory&amp;utm_medium...</td>\n",
              "    </tr>\n",
              "  </tbody>\n",
              "</table>\n",
              "</div>"
            ],
            "text/plain": [
              "                                  Deal ID  ...                                         remove_www\n",
              "63856           american-apparel-us-boise  ...  american-apparel-us-boise?utm_campaign=3383227...\n",
              "64051               chefo-s-pancake-house  ...  chefo-s-pancake-house?utm_medium=email&utm_sou...\n",
              "64054  hands-on-healing-massage-therapy-2  ...  hands-on-healing-massage-therapy-2?utm_medium=...\n",
              "64116  glendale-urgent-care-medical-group  ...  glendale-urgent-care-medical-group?utm_campaig...\n",
              "64134  american-apparel-us-ventura-county  ...  american-apparel-us-ventura-county?utm_campaig...\n",
              "65124                ga-treetops-resort-4  ...  ga-treetops-resort-4?utm_campaign=us_dt_sea_gg...\n",
              "65344        american-apparel-us-appleton  ...  american-apparel-us-appleton?utm_medium=email&...\n",
              "65496     gg-7in-8gb-samsung-galaxy-tab-2  ...  gg-7in-8gb-samsung-galaxy-tab-2?utm_campaign=u...\n",
              "65739                        thai-taste-1  ...  thai-taste-1?utm_medium=email&utm_source=newsl...\n",
              "65808                          yesvideo-9  ...  yesvideo-9?utm_campaign=livingstory&utm_medium...\n",
              "\n",
              "[10 rows x 8 columns]"
            ]
          },
          "metadata": {},
          "execution_count": 140
        }
      ]
    },
    {
      "cell_type": "code",
      "metadata": {
        "colab": {
          "base_uri": "https://localhost:8080/"
        },
        "id": "VGMPkYce60cm",
        "outputId": "7ece9fc3-d747-44a4-99a5-df256e42b506"
      },
      "source": [
        "df[df['Deal ID'] != df['remove_www']]['Inventory Type'].unique()"
      ],
      "execution_count": 138,
      "outputs": [
        {
          "output_type": "execute_result",
          "data": {
            "text/plain": [
              "array(['Third - Party'], dtype=object)"
            ]
          },
          "metadata": {},
          "execution_count": 138
        }
      ]
    },
    {
      "cell_type": "code",
      "metadata": {
        "colab": {
          "base_uri": "https://localhost:8080/",
          "height": 297
        },
        "id": "AuQOe4jWfI7u",
        "outputId": "ad0509fb-b617-4563-ed42-742426f44f9a"
      },
      "source": [
        "df.describe()"
      ],
      "execution_count": 45,
      "outputs": [
        {
          "output_type": "execute_result",
          "data": {
            "text/html": [
              "<div>\n",
              "<style scoped>\n",
              "    .dataframe tbody tr th:only-of-type {\n",
              "        vertical-align: middle;\n",
              "    }\n",
              "\n",
              "    .dataframe tbody tr th {\n",
              "        vertical-align: top;\n",
              "    }\n",
              "\n",
              "    .dataframe thead th {\n",
              "        text-align: right;\n",
              "    }\n",
              "</style>\n",
              "<table border=\"1\" class=\"dataframe\">\n",
              "  <thead>\n",
              "    <tr style=\"text-align: right;\">\n",
              "      <th></th>\n",
              "      <th>Units Sold</th>\n",
              "      <th>Billings</th>\n",
              "    </tr>\n",
              "  </thead>\n",
              "  <tbody>\n",
              "    <tr>\n",
              "      <th>count</th>\n",
              "      <td>138534.000</td>\n",
              "      <td>138534.000</td>\n",
              "    </tr>\n",
              "    <tr>\n",
              "      <th>mean</th>\n",
              "      <td>178.463</td>\n",
              "      <td>5500.602</td>\n",
              "    </tr>\n",
              "    <tr>\n",
              "      <th>std</th>\n",
              "      <td>864.552</td>\n",
              "      <td>27746.530</td>\n",
              "    </tr>\n",
              "    <tr>\n",
              "      <th>min</th>\n",
              "      <td>-9100.000</td>\n",
              "      <td>-218062.901</td>\n",
              "    </tr>\n",
              "    <tr>\n",
              "      <th>25%</th>\n",
              "      <td>1.450</td>\n",
              "      <td>63.800</td>\n",
              "    </tr>\n",
              "    <tr>\n",
              "      <th>50%</th>\n",
              "      <td>19.200</td>\n",
              "      <td>850.200</td>\n",
              "    </tr>\n",
              "    <tr>\n",
              "      <th>75%</th>\n",
              "      <td>99.200</td>\n",
              "      <td>3677.450</td>\n",
              "    </tr>\n",
              "    <tr>\n",
              "      <th>max</th>\n",
              "      <td>62500.000</td>\n",
              "      <td>2874885.000</td>\n",
              "    </tr>\n",
              "  </tbody>\n",
              "</table>\n",
              "</div>"
            ],
            "text/plain": [
              "       Units Sold    Billings\n",
              "count  138534.000  138534.000\n",
              "mean      178.463    5500.602\n",
              "std       864.552   27746.530\n",
              "min     -9100.000 -218062.901\n",
              "25%         1.450      63.800\n",
              "50%        19.200     850.200\n",
              "75%        99.200    3677.450\n",
              "max     62500.000 2874885.000"
            ]
          },
          "metadata": {},
          "execution_count": 45
        }
      ]
    },
    {
      "cell_type": "markdown",
      "metadata": {
        "id": "QU5PrI0xXbdY"
      },
      "source": [
        "## Local"
      ]
    },
    {
      "cell_type": "code",
      "metadata": {
        "id": "warkQz6KkMBu"
      },
      "source": [
        "local = df1[(df1.Segment == 'Local')]"
      ],
      "execution_count": 91,
      "outputs": []
    },
    {
      "cell_type": "code",
      "metadata": {
        "colab": {
          "base_uri": "https://localhost:8080/",
          "height": 297
        },
        "id": "4ZszFdfCxzaD",
        "outputId": "7ef16f5e-77dd-43b4-f9c8-fe146e1a60f7"
      },
      "source": [
        "local.describe()"
      ],
      "execution_count": 92,
      "outputs": [
        {
          "output_type": "execute_result",
          "data": {
            "text/html": [
              "<div>\n",
              "<style scoped>\n",
              "    .dataframe tbody tr th:only-of-type {\n",
              "        vertical-align: middle;\n",
              "    }\n",
              "\n",
              "    .dataframe tbody tr th {\n",
              "        vertical-align: top;\n",
              "    }\n",
              "\n",
              "    .dataframe thead th {\n",
              "        text-align: right;\n",
              "    }\n",
              "</style>\n",
              "<table border=\"1\" class=\"dataframe\">\n",
              "  <thead>\n",
              "    <tr style=\"text-align: right;\">\n",
              "      <th></th>\n",
              "      <th>Units Sold</th>\n",
              "      <th>Billings</th>\n",
              "    </tr>\n",
              "  </thead>\n",
              "  <tbody>\n",
              "    <tr>\n",
              "      <th>count</th>\n",
              "      <td>120576.000</td>\n",
              "      <td>120576.000</td>\n",
              "    </tr>\n",
              "    <tr>\n",
              "      <th>mean</th>\n",
              "      <td>115.483</td>\n",
              "      <td>3393.898</td>\n",
              "    </tr>\n",
              "    <tr>\n",
              "      <th>std</th>\n",
              "      <td>593.890</td>\n",
              "      <td>13622.551</td>\n",
              "    </tr>\n",
              "    <tr>\n",
              "      <th>min</th>\n",
              "      <td>-9100.000</td>\n",
              "      <td>-218062.901</td>\n",
              "    </tr>\n",
              "    <tr>\n",
              "      <th>25%</th>\n",
              "      <td>1.450</td>\n",
              "      <td>34.800</td>\n",
              "    </tr>\n",
              "    <tr>\n",
              "      <th>50%</th>\n",
              "      <td>13.850</td>\n",
              "      <td>654.000</td>\n",
              "    </tr>\n",
              "    <tr>\n",
              "      <th>75%</th>\n",
              "      <td>68.400</td>\n",
              "      <td>2727.039</td>\n",
              "    </tr>\n",
              "    <tr>\n",
              "      <th>max</th>\n",
              "      <td>62500.000</td>\n",
              "      <td>1371875.000</td>\n",
              "    </tr>\n",
              "  </tbody>\n",
              "</table>\n",
              "</div>"
            ],
            "text/plain": [
              "       Units Sold    Billings\n",
              "count  120576.000  120576.000\n",
              "mean      115.483    3393.898\n",
              "std       593.890   13622.551\n",
              "min     -9100.000 -218062.901\n",
              "25%         1.450      34.800\n",
              "50%        13.850     654.000\n",
              "75%        68.400    2727.039\n",
              "max     62500.000 1371875.000"
            ]
          },
          "metadata": {},
          "execution_count": 92
        }
      ]
    },
    {
      "cell_type": "code",
      "metadata": {
        "colab": {
          "base_uri": "https://localhost:8080/",
          "height": 224
        },
        "id": "oMYaTQzpv3Di",
        "outputId": "b0867d25-b601-4863-e937-597ed7f404f3"
      },
      "source": [
        "plt.figure(figsize=(18,3))\n",
        "_=plt.boxplot(local['Billings'],vert=False)"
      ],
      "execution_count": 93,
      "outputs": [
        {
          "output_type": "display_data",
          "data": {
            "image/png": "[encoded data removed]",
            "text/plain": [
              "<Figure size 1296x216 with 1 Axes>"
            ]
          },
          "metadata": {}
        }
      ]
    },
    {
      "cell_type": "code",
      "metadata": {
        "colab": {
          "base_uri": "https://localhost:8080/",
          "height": 204
        },
        "id": "EYLT0elT0UKR",
        "outputId": "8bc8c9b7-fbc0-457d-ba94-038a127c92ab"
      },
      "source": [
        "local.iloc[np.argsort(list(local['Billings']))[-5:]]"
      ],
      "execution_count": 105,
      "outputs": [
        {
          "output_type": "execute_result",
          "data": {
            "text/html": [
              "<div>\n",
              "<style scoped>\n",
              "    .dataframe tbody tr th:only-of-type {\n",
              "        vertical-align: middle;\n",
              "    }\n",
              "\n",
              "    .dataframe tbody tr th {\n",
              "        vertical-align: top;\n",
              "    }\n",
              "\n",
              "    .dataframe thead th {\n",
              "        text-align: right;\n",
              "    }\n",
              "</style>\n",
              "<table border=\"1\" class=\"dataframe\">\n",
              "  <thead>\n",
              "    <tr style=\"text-align: right;\">\n",
              "      <th></th>\n",
              "      <th>Deal ID</th>\n",
              "      <th>Units Sold</th>\n",
              "      <th>Billings</th>\n",
              "      <th>Start Date</th>\n",
              "      <th>Deal URL</th>\n",
              "      <th>Segment</th>\n",
              "      <th>Inventory Type</th>\n",
              "    </tr>\n",
              "  </thead>\n",
              "  <tbody>\n",
              "    <tr>\n",
              "      <th>58416</th>\n",
              "      <td>zazzle-18</td>\n",
              "      <td>27300.000</td>\n",
              "      <td>818727.000</td>\n",
              "      <td>2013-11-01</td>\n",
              "      <td>http://www.groupon.com/deals/zazzle-18</td>\n",
              "      <td>Local</td>\n",
              "      <td>Third - Party</td>\n",
              "    </tr>\n",
              "    <tr>\n",
              "      <th>74496</th>\n",
              "      <td>picanova</td>\n",
              "      <td>45500.000</td>\n",
              "      <td>909545.000</td>\n",
              "      <td>2013-11-27</td>\n",
              "      <td>http://www.groupon.com/deals/picanova</td>\n",
              "      <td>Local</td>\n",
              "      <td>Third - Party</td>\n",
              "    </tr>\n",
              "    <tr>\n",
              "      <th>60451</th>\n",
              "      <td>vistaprint-13</td>\n",
              "      <td>45500.000</td>\n",
              "      <td>910000.000</td>\n",
              "      <td>2013-11-07</td>\n",
              "      <td>http://www.groupon.com/deals/vistaprint-13</td>\n",
              "      <td>Local</td>\n",
              "      <td>Third - Party</td>\n",
              "    </tr>\n",
              "    <tr>\n",
              "      <th>68144</th>\n",
              "      <td>coldwater-creek-amarillo-3</td>\n",
              "      <td>45500.000</td>\n",
              "      <td>1137500.000</td>\n",
              "      <td>2013-11-26</td>\n",
              "      <td>http://www.groupon.com/deals/coldwater-creek-a...</td>\n",
              "      <td>Local</td>\n",
              "      <td>Third - Party</td>\n",
              "    </tr>\n",
              "    <tr>\n",
              "      <th>119224</th>\n",
              "      <td>cinetopia-29</td>\n",
              "      <td>62500.000</td>\n",
              "      <td>1371875.000</td>\n",
              "      <td>2013-12-13</td>\n",
              "      <td>http://www.groupon.com/deals/cinetopia-29?utm_...</td>\n",
              "      <td>Local</td>\n",
              "      <td>Third - Party</td>\n",
              "    </tr>\n",
              "  </tbody>\n",
              "</table>\n",
              "</div>"
            ],
            "text/plain": [
              "                           Deal ID  Units Sold  ...  Segment Inventory Type\n",
              "58416                    zazzle-18   27300.000  ...    Local  Third - Party\n",
              "74496                     picanova   45500.000  ...    Local  Third - Party\n",
              "60451                vistaprint-13   45500.000  ...    Local  Third - Party\n",
              "68144   coldwater-creek-amarillo-3   45500.000  ...    Local  Third - Party\n",
              "119224                cinetopia-29   62500.000  ...    Local  Third - Party\n",
              "\n",
              "[5 rows x 7 columns]"
            ]
          },
          "metadata": {},
          "execution_count": 105
        }
      ]
    },
    {
      "cell_type": "code",
      "metadata": {
        "colab": {
          "base_uri": "https://localhost:8080/",
          "height": 204
        },
        "id": "fhazBVOu0nlC",
        "outputId": "865c8e71-7df3-4bba-c42a-f1f5a1f7b4ce"
      },
      "source": [
        "local.iloc[np.argsort(list(local['Billings']))[:5]]"
      ],
      "execution_count": 106,
      "outputs": [
        {
          "output_type": "execute_result",
          "data": {
            "text/html": [
              "<div>\n",
              "<style scoped>\n",
              "    .dataframe tbody tr th:only-of-type {\n",
              "        vertical-align: middle;\n",
              "    }\n",
              "\n",
              "    .dataframe tbody tr th {\n",
              "        vertical-align: top;\n",
              "    }\n",
              "\n",
              "    .dataframe thead th {\n",
              "        text-align: right;\n",
              "    }\n",
              "</style>\n",
              "<table border=\"1\" class=\"dataframe\">\n",
              "  <thead>\n",
              "    <tr style=\"text-align: right;\">\n",
              "      <th></th>\n",
              "      <th>Deal ID</th>\n",
              "      <th>Units Sold</th>\n",
              "      <th>Billings</th>\n",
              "      <th>Start Date</th>\n",
              "      <th>Deal URL</th>\n",
              "      <th>Segment</th>\n",
              "      <th>Inventory Type</th>\n",
              "    </tr>\n",
              "  </thead>\n",
              "  <tbody>\n",
              "    <tr>\n",
              "      <th>15565</th>\n",
              "      <td>icon-parking-23-long-island-westchester-county</td>\n",
              "      <td>-2.200</td>\n",
              "      <td>-218062.901</td>\n",
              "      <td>2013-04-22</td>\n",
              "      <td>http://www.groupon.com/deals/icon-parking-23-l...</td>\n",
              "      <td>Local</td>\n",
              "      <td>Third - Party</td>\n",
              "    </tr>\n",
              "    <tr>\n",
              "      <th>18792</th>\n",
              "      <td>sacramento-zoo-4</td>\n",
              "      <td>-7280.000</td>\n",
              "      <td>-182000.000</td>\n",
              "      <td>2013-05-29</td>\n",
              "      <td>http://www.groupon.com/deals/sacramento-zoo-4</td>\n",
              "      <td>Local</td>\n",
              "      <td>Third - Party</td>\n",
              "    </tr>\n",
              "    <tr>\n",
              "      <th>15567</th>\n",
              "      <td>icon-parking-23-long-island</td>\n",
              "      <td>-3.650</td>\n",
              "      <td>-140086.263</td>\n",
              "      <td>2013-04-22</td>\n",
              "      <td>http://www.groupon.com/deals/icon-parking-23-l...</td>\n",
              "      <td>Local</td>\n",
              "      <td>Third - Party</td>\n",
              "    </tr>\n",
              "    <tr>\n",
              "      <th>7551</th>\n",
              "      <td>times-scare-new-york-city</td>\n",
              "      <td>-1820.000</td>\n",
              "      <td>-89180.000</td>\n",
              "      <td>2013-02-16</td>\n",
              "      <td>http://www.groupon.com/deals/times-scare-new-y...</td>\n",
              "      <td>Local</td>\n",
              "      <td>Third - Party</td>\n",
              "    </tr>\n",
              "    <tr>\n",
              "      <th>17799</th>\n",
              "      <td>ultimate-beerfest</td>\n",
              "      <td>-1911.100</td>\n",
              "      <td>-57376.500</td>\n",
              "      <td>2013-05-23</td>\n",
              "      <td>http://www.groupon.com/deals/ultimate-beerfest</td>\n",
              "      <td>Local</td>\n",
              "      <td>Third - Party</td>\n",
              "    </tr>\n",
              "  </tbody>\n",
              "</table>\n",
              "</div>"
            ],
            "text/plain": [
              "                                              Deal ID  ...  Inventory Type\n",
              "15565  icon-parking-23-long-island-westchester-county  ...   Third - Party\n",
              "18792                                sacramento-zoo-4  ...   Third - Party\n",
              "15567                     icon-parking-23-long-island  ...   Third - Party\n",
              "7551                        times-scare-new-york-city  ...   Third - Party\n",
              "17799                               ultimate-beerfest  ...   Third - Party\n",
              "\n",
              "[5 rows x 7 columns]"
            ]
          },
          "metadata": {},
          "execution_count": 106
        }
      ]
    },
    {
      "cell_type": "code",
      "metadata": {
        "colab": {
          "base_uri": "https://localhost:8080/",
          "height": 320
        },
        "id": "kmiYtIslEmdM",
        "outputId": "e5331c37-9627-4376-80fb-ab833752c8e7"
      },
      "source": [
        "plt.figure(figsize=(15,5))\n",
        "_=plt.hist(local['Start Date'],bins=200)"
      ],
      "execution_count": 75,
      "outputs": [
        {
          "output_type": "display_data",
          "data": {
            "image/png": "[encoded data removed]",
            "text/plain": [
              "<Figure size 1080x360 with 1 Axes>"
            ]
          },
          "metadata": {}
        }
      ]
    },
    {
      "cell_type": "code",
      "metadata": {
        "colab": {
          "base_uri": "https://localhost:8080/"
        },
        "id": "YJlz2UuZflN0",
        "outputId": "99ef7b77-d292-4ac5-bf08-7272175482df"
      },
      "source": [
        "local['Unit Price'] = local.apply(lambda x: np.nan if x['Billings'] == 0 else x['Billings']/x['Units Sold'], axis=1)"
      ],
      "execution_count": 143,
      "outputs": [
        {
          "output_type": "stream",
          "name": "stderr",
          "text": [
            "/usr/local/lib/python3.7/dist-packages/ipykernel_launcher.py:1: SettingWithCopyWarning: \n",
            "A value is trying to be set on a copy of a slice from a DataFrame.\n",
            "Try using .loc[row_indexer,col_indexer] = value instead\n",
            "\n",
            "See the caveats in the documentation: https://pandas.pydata.org/pandas-docs/stable/user_guide/indexing.html#returning-a-view-versus-a-copy\n",
            "  \"\"\"Entry point for launching an IPython kernel.\n"
          ]
        }
      ]
    },
    {
      "cell_type": "code",
      "metadata": {
        "colab": {
          "base_uri": "https://localhost:8080/",
          "height": 224
        },
        "id": "bgYp8RWFBlAh",
        "outputId": "cd19d849-4c9d-4281-bc17-cdea0c6d32bb"
      },
      "source": [
        "cleanedList = [x for x in list(local['Unit Price']) if str(x) != 'nan']\n",
        "plt.figure(figsize=(18,3))\n",
        "_=plt.boxplot(cleanedList,vert=False)"
      ],
      "execution_count": 243,
      "outputs": [
        {
          "output_type": "display_data",
          "data": {
            "image/png": "[encoded data removed]",
            "text/plain": [
              "<Figure size 1296x216 with 1 Axes>"
            ]
          },
          "metadata": {}
        }
      ]
    },
    {
      "cell_type": "code",
      "metadata": {
        "colab": {
          "base_uri": "https://localhost:8080/",
          "height": 297
        },
        "id": "YIXRIsr0tgpX",
        "outputId": "5676d06b-f7ef-4431-835e-fd0eea111eee"
      },
      "source": [
        "local.describe()"
      ],
      "execution_count": 145,
      "outputs": [
        {
          "output_type": "execute_result",
          "data": {
            "text/html": [
              "<div>\n",
              "<style scoped>\n",
              "    .dataframe tbody tr th:only-of-type {\n",
              "        vertical-align: middle;\n",
              "    }\n",
              "\n",
              "    .dataframe tbody tr th {\n",
              "        vertical-align: top;\n",
              "    }\n",
              "\n",
              "    .dataframe thead th {\n",
              "        text-align: right;\n",
              "    }\n",
              "</style>\n",
              "<table border=\"1\" class=\"dataframe\">\n",
              "  <thead>\n",
              "    <tr style=\"text-align: right;\">\n",
              "      <th></th>\n",
              "      <th>Units Sold</th>\n",
              "      <th>Billings</th>\n",
              "      <th>Unit Price</th>\n",
              "    </tr>\n",
              "  </thead>\n",
              "  <tbody>\n",
              "    <tr>\n",
              "      <th>count</th>\n",
              "      <td>120576.000</td>\n",
              "      <td>120576.000</td>\n",
              "      <td>94823.000</td>\n",
              "    </tr>\n",
              "    <tr>\n",
              "      <th>mean</th>\n",
              "      <td>115.483</td>\n",
              "      <td>3393.898</td>\n",
              "      <td>59867213030824.266</td>\n",
              "    </tr>\n",
              "    <tr>\n",
              "      <th>std</th>\n",
              "      <td>593.890</td>\n",
              "      <td>13622.551</td>\n",
              "      <td>4975576942067955.000</td>\n",
              "    </tr>\n",
              "    <tr>\n",
              "      <th>min</th>\n",
              "      <td>-9100.000</td>\n",
              "      <td>-218062.901</td>\n",
              "      <td>0.148</td>\n",
              "    </tr>\n",
              "    <tr>\n",
              "      <th>25%</th>\n",
              "      <td>1.450</td>\n",
              "      <td>34.800</td>\n",
              "      <td>25.000</td>\n",
              "    </tr>\n",
              "    <tr>\n",
              "      <th>50%</th>\n",
              "      <td>13.850</td>\n",
              "      <td>654.000</td>\n",
              "      <td>39.000</td>\n",
              "    </tr>\n",
              "    <tr>\n",
              "      <th>75%</th>\n",
              "      <td>68.400</td>\n",
              "      <td>2727.039</td>\n",
              "      <td>64.990</td>\n",
              "    </tr>\n",
              "    <tr>\n",
              "      <th>max</th>\n",
              "      <td>62500.000</td>\n",
              "      <td>1371875.000</td>\n",
              "      <td>979532918953082624.000</td>\n",
              "    </tr>\n",
              "  </tbody>\n",
              "</table>\n",
              "</div>"
            ],
            "text/plain": [
              "       Units Sold    Billings             Unit Price\n",
              "count  120576.000  120576.000              94823.000\n",
              "mean      115.483    3393.898     59867213030824.266\n",
              "std       593.890   13622.551   4975576942067955.000\n",
              "min     -9100.000 -218062.901                  0.148\n",
              "25%         1.450      34.800                 25.000\n",
              "50%        13.850     654.000                 39.000\n",
              "75%        68.400    2727.039                 64.990\n",
              "max     62500.000 1371875.000 979532918953082624.000"
            ]
          },
          "metadata": {},
          "execution_count": 145
        }
      ]
    },
    {
      "cell_type": "code",
      "metadata": {
        "colab": {
          "base_uri": "https://localhost:8080/",
          "height": 328
        },
        "id": "pKMANXIstnOu",
        "outputId": "2677c68e-f4e1-4430-b69a-8dab3cc24774"
      },
      "source": [
        "local.iloc[np.argsort(list(local['Unit Price']))[:9]]"
      ],
      "execution_count": 216,
      "outputs": [
        {
          "output_type": "execute_result",
          "data": {
            "text/html": [
              "<div>\n",
              "<style scoped>\n",
              "    .dataframe tbody tr th:only-of-type {\n",
              "        vertical-align: middle;\n",
              "    }\n",
              "\n",
              "    .dataframe tbody tr th {\n",
              "        vertical-align: top;\n",
              "    }\n",
              "\n",
              "    .dataframe thead th {\n",
              "        text-align: right;\n",
              "    }\n",
              "</style>\n",
              "<table border=\"1\" class=\"dataframe\">\n",
              "  <thead>\n",
              "    <tr style=\"text-align: right;\">\n",
              "      <th></th>\n",
              "      <th>Deal ID</th>\n",
              "      <th>Units Sold</th>\n",
              "      <th>Billings</th>\n",
              "      <th>Start Date</th>\n",
              "      <th>Deal URL</th>\n",
              "      <th>Segment</th>\n",
              "      <th>Inventory Type</th>\n",
              "      <th>Unit Price</th>\n",
              "    </tr>\n",
              "  </thead>\n",
              "  <tbody>\n",
              "    <tr>\n",
              "      <th>25784</th>\n",
              "      <td>icon-parking-36</td>\n",
              "      <td>-29.800</td>\n",
              "      <td>-4.400</td>\n",
              "      <td>2013-07-05</td>\n",
              "      <td>http://www.groupon.com/deals/icon-parking-36</td>\n",
              "      <td>Local</td>\n",
              "      <td>Third - Party</td>\n",
              "      <td>0.148</td>\n",
              "    </tr>\n",
              "    <tr>\n",
              "      <th>34068</th>\n",
              "      <td>stars-sandwich-market-1</td>\n",
              "      <td>-54.500</td>\n",
              "      <td>-10.900</td>\n",
              "      <td>2013-08-16</td>\n",
              "      <td>http://www.groupon.com/deals/stars-sandwich-ma...</td>\n",
              "      <td>Local</td>\n",
              "      <td>Third - Party</td>\n",
              "      <td>0.200</td>\n",
              "    </tr>\n",
              "    <tr>\n",
              "      <th>39271</th>\n",
              "      <td>connie-dale-massage</td>\n",
              "      <td>-5.800</td>\n",
              "      <td>-1.400</td>\n",
              "      <td>2013-09-06</td>\n",
              "      <td>http://www.groupon.com/deals/connie-dale-massage</td>\n",
              "      <td>Local</td>\n",
              "      <td>Third - Party</td>\n",
              "      <td>0.241</td>\n",
              "    </tr>\n",
              "    <tr>\n",
              "      <th>32907</th>\n",
              "      <td>speed-usa-dating-parent-10</td>\n",
              "      <td>8.050</td>\n",
              "      <td>3.750</td>\n",
              "      <td>2013-08-11</td>\n",
              "      <td>http://www.groupon.com/deals/speed-usa-dating-...</td>\n",
              "      <td>Local</td>\n",
              "      <td>Third - Party</td>\n",
              "      <td>0.466</td>\n",
              "    </tr>\n",
              "    <tr>\n",
              "      <th>35671</th>\n",
              "      <td>bayou-snack-shack-1</td>\n",
              "      <td>-65.400</td>\n",
              "      <td>-32.700</td>\n",
              "      <td>2013-08-23</td>\n",
              "      <td>http://www.groupon.com/deals/bayou-snack-shack-1</td>\n",
              "      <td>Local</td>\n",
              "      <td>Third - Party</td>\n",
              "      <td>0.500</td>\n",
              "    </tr>\n",
              "    <tr>\n",
              "      <th>35672</th>\n",
              "      <td>lucia-at-avenue-salon</td>\n",
              "      <td>-54.100</td>\n",
              "      <td>-27.300</td>\n",
              "      <td>2013-08-23</td>\n",
              "      <td>http://www.groupon.com/deals/lucia-at-avenue-s...</td>\n",
              "      <td>Local</td>\n",
              "      <td>Third - Party</td>\n",
              "      <td>0.505</td>\n",
              "    </tr>\n",
              "    <tr>\n",
              "      <th>36373</th>\n",
              "      <td>campbell-s-restaurant-and-steakhouse-3</td>\n",
              "      <td>272.500</td>\n",
              "      <td>185.300</td>\n",
              "      <td>2013-08-26</td>\n",
              "      <td>http://www.groupon.com/deals/campbell-s-restau...</td>\n",
              "      <td>Local</td>\n",
              "      <td>Third - Party</td>\n",
              "      <td>0.680</td>\n",
              "    </tr>\n",
              "    <tr>\n",
              "      <th>3642</th>\n",
              "      <td>brooklyn-banya-5</td>\n",
              "      <td>5808.800</td>\n",
              "      <td>4582.500</td>\n",
              "      <td>2012-12-14</td>\n",
              "      <td>http://www.groupon.com/deals/brooklyn-banya-5</td>\n",
              "      <td>Local</td>\n",
              "      <td>Third - Party</td>\n",
              "      <td>0.789</td>\n",
              "    </tr>\n",
              "    <tr>\n",
              "      <th>78419</th>\n",
              "      <td>city-view-trolley-tours-3</td>\n",
              "      <td>0.000</td>\n",
              "      <td>0.000</td>\n",
              "      <td>2013-04-29</td>\n",
              "      <td>http://www.groupon.com/deals/city-view-trolley...</td>\n",
              "      <td>Local</td>\n",
              "      <td>Third - Party</td>\n",
              "      <td>0.800</td>\n",
              "    </tr>\n",
              "  </tbody>\n",
              "</table>\n",
              "</div>"
            ],
            "text/plain": [
              "                                      Deal ID  ...  Unit Price\n",
              "25784                         icon-parking-36  ...       0.148\n",
              "34068                 stars-sandwich-market-1  ...       0.200\n",
              "39271                     connie-dale-massage  ...       0.241\n",
              "32907              speed-usa-dating-parent-10  ...       0.466\n",
              "35671                     bayou-snack-shack-1  ...       0.500\n",
              "35672                   lucia-at-avenue-salon  ...       0.505\n",
              "36373  campbell-s-restaurant-and-steakhouse-3  ...       0.680\n",
              "3642                         brooklyn-banya-5  ...       0.789\n",
              "78419               city-view-trolley-tours-3  ...       0.800\n",
              "\n",
              "[9 rows x 8 columns]"
            ]
          },
          "metadata": {},
          "execution_count": 216
        }
      ]
    },
    {
      "cell_type": "code",
      "metadata": {
        "colab": {
          "base_uri": "https://localhost:8080/",
          "height": 359
        },
        "id": "01IUZI7c8Y0l",
        "outputId": "134ae225-e60d-444e-d0f3-7446a0f4471b"
      },
      "source": [
        "local.iloc[np.argsort(list(local['Unit Price']))[-25799:-25753]].head(10)"
      ],
      "execution_count": 213,
      "outputs": [
        {
          "output_type": "execute_result",
          "data": {
            "text/html": [
              "<div>\n",
              "<style scoped>\n",
              "    .dataframe tbody tr th:only-of-type {\n",
              "        vertical-align: middle;\n",
              "    }\n",
              "\n",
              "    .dataframe tbody tr th {\n",
              "        vertical-align: top;\n",
              "    }\n",
              "\n",
              "    .dataframe thead th {\n",
              "        text-align: right;\n",
              "    }\n",
              "</style>\n",
              "<table border=\"1\" class=\"dataframe\">\n",
              "  <thead>\n",
              "    <tr style=\"text-align: right;\">\n",
              "      <th></th>\n",
              "      <th>Deal ID</th>\n",
              "      <th>Units Sold</th>\n",
              "      <th>Billings</th>\n",
              "      <th>Start Date</th>\n",
              "      <th>Deal URL</th>\n",
              "      <th>Segment</th>\n",
              "      <th>Inventory Type</th>\n",
              "      <th>Unit Price</th>\n",
              "    </tr>\n",
              "  </thead>\n",
              "  <tbody>\n",
              "    <tr>\n",
              "      <th>15567</th>\n",
              "      <td>icon-parking-23-long-island</td>\n",
              "      <td>-3.650</td>\n",
              "      <td>-140086.263</td>\n",
              "      <td>2013-04-22</td>\n",
              "      <td>http://www.groupon.com/deals/icon-parking-23-l...</td>\n",
              "      <td>Local</td>\n",
              "      <td>Third - Party</td>\n",
              "      <td>38379.798</td>\n",
              "    </tr>\n",
              "    <tr>\n",
              "      <th>15565</th>\n",
              "      <td>icon-parking-23-long-island-westchester-county</td>\n",
              "      <td>-2.200</td>\n",
              "      <td>-218062.901</td>\n",
              "      <td>2013-04-22</td>\n",
              "      <td>http://www.groupon.com/deals/icon-parking-23-l...</td>\n",
              "      <td>Local</td>\n",
              "      <td>Third - Party</td>\n",
              "      <td>99119.500</td>\n",
              "    </tr>\n",
              "    <tr>\n",
              "      <th>19205</th>\n",
              "      <td>gateway-fun-park-1</td>\n",
              "      <td>-0.000</td>\n",
              "      <td>-272.500</td>\n",
              "      <td>2013-05-31</td>\n",
              "      <td>http://www.groupon.com/deals/gateway-fun-park-1</td>\n",
              "      <td>Local</td>\n",
              "      <td>Third - Party</td>\n",
              "      <td>1198467674275852.000</td>\n",
              "    </tr>\n",
              "    <tr>\n",
              "      <th>84190</th>\n",
              "      <td>space-golf-5</td>\n",
              "      <td>0.000</td>\n",
              "      <td>174.400</td>\n",
              "      <td>2013-04-22</td>\n",
              "      <td>http://www.groupon.com/deals/space-golf-5</td>\n",
              "      <td>Local</td>\n",
              "      <td>Third - Party</td>\n",
              "      <td>1753186997797796.500</td>\n",
              "    </tr>\n",
              "    <tr>\n",
              "      <th>84046</th>\n",
              "      <td>sakura-garden-milford-5</td>\n",
              "      <td>-0.000</td>\n",
              "      <td>-54.500</td>\n",
              "      <td>2013-05-08</td>\n",
              "      <td>http://www.groupon.com/deals/sakura-garden-mil...</td>\n",
              "      <td>Local</td>\n",
              "      <td>Third - Party</td>\n",
              "      <td>1917548278841362.000</td>\n",
              "    </tr>\n",
              "    <tr>\n",
              "      <th>35580</th>\n",
              "      <td>luna-park-at-coney-island-6</td>\n",
              "      <td>-0.000</td>\n",
              "      <td>-239.800</td>\n",
              "      <td>2013-08-23</td>\n",
              "      <td>http://www.groupon.com/deals/luna-park-at-cone...</td>\n",
              "      <td>Local</td>\n",
              "      <td>Third - Party</td>\n",
              "      <td>2812404142300568.000</td>\n",
              "    </tr>\n",
              "    <tr>\n",
              "      <th>19000</th>\n",
              "      <td>channel-islands-ice-center-2</td>\n",
              "      <td>-0.000</td>\n",
              "      <td>-111.600</td>\n",
              "      <td>2013-05-30</td>\n",
              "      <td>http://www.groupon.com/deals/channel-islands-i...</td>\n",
              "      <td>Local</td>\n",
              "      <td>Third - Party</td>\n",
              "      <td>3926575925113662.000</td>\n",
              "    </tr>\n",
              "    <tr>\n",
              "      <th>15711</th>\n",
              "      <td>baby-boot-camp-texas-1</td>\n",
              "      <td>-0.000</td>\n",
              "      <td>-14.500</td>\n",
              "      <td>2013-04-25</td>\n",
              "      <td>http://www.groupon.com/deals/baby-boot-camp-te...</td>\n",
              "      <td>Local</td>\n",
              "      <td>Third - Party</td>\n",
              "      <td>5023245738220938.000</td>\n",
              "    </tr>\n",
              "    <tr>\n",
              "      <th>16954</th>\n",
              "      <td>wet-paint-chicago-3</td>\n",
              "      <td>-0.000</td>\n",
              "      <td>-174.400</td>\n",
              "      <td>2013-05-18</td>\n",
              "      <td>http://www.groupon.com/deals/wet-paint-chicago-3</td>\n",
              "      <td>Local</td>\n",
              "      <td>Third - Party</td>\n",
              "      <td>6136154492292384.000</td>\n",
              "    </tr>\n",
              "    <tr>\n",
              "      <th>31848</th>\n",
              "      <td>beebe-love-s-beauty</td>\n",
              "      <td>-0.000</td>\n",
              "      <td>-23.200</td>\n",
              "      <td>2013-08-06</td>\n",
              "      <td>http://www.groupon.com/deals/beebe-love-s-beauty</td>\n",
              "      <td>Local</td>\n",
              "      <td>Third - Party</td>\n",
              "      <td>6530219459687228.000</td>\n",
              "    </tr>\n",
              "  </tbody>\n",
              "</table>\n",
              "</div>"
            ],
            "text/plain": [
              "                                              Deal ID  ...           Unit Price\n",
              "15567                     icon-parking-23-long-island  ...            38379.798\n",
              "15565  icon-parking-23-long-island-westchester-county  ...            99119.500\n",
              "19205                              gateway-fun-park-1  ... 1198467674275852.000\n",
              "84190                                    space-golf-5  ... 1753186997797796.500\n",
              "84046                         sakura-garden-milford-5  ... 1917548278841362.000\n",
              "35580                     luna-park-at-coney-island-6  ... 2812404142300568.000\n",
              "19000                    channel-islands-ice-center-2  ... 3926575925113662.000\n",
              "15711                          baby-boot-camp-texas-1  ... 5023245738220938.000\n",
              "16954                             wet-paint-chicago-3  ... 6136154492292384.000\n",
              "31848                             beebe-love-s-beauty  ... 6530219459687228.000\n",
              "\n",
              "[10 rows x 8 columns]"
            ]
          },
          "metadata": {},
          "execution_count": 213
        }
      ]
    },
    {
      "cell_type": "code",
      "metadata": {
        "colab": {
          "base_uri": "https://localhost:8080/",
          "height": 211
        },
        "id": "Ax0pt5oquZxZ",
        "outputId": "04b313fd-9d37-411d-f49f-b53351fa28a2"
      },
      "source": [
        "cleanedList = [x for x in list(local.iloc[np.argsort(list(local['Unit Price']))[:-25799]]['Unit Price']) if str(x) != 'nan']\n",
        "plt.figure(figsize=(18,3))\n",
        "_=plt.boxplot(cleanedList,vert=False)"
      ],
      "execution_count": 251,
      "outputs": [
        {
          "output_type": "display_data",
          "data": {
            "image/png": "[encoded data removed]",
            "text/plain": [
              "<Figure size 1296x216 with 1 Axes>"
            ]
          },
          "metadata": {}
        }
      ]
    },
    {
      "cell_type": "code",
      "metadata": {
        "colab": {
          "base_uri": "https://localhost:8080/"
        },
        "id": "9UUYPYg6Cepo",
        "outputId": "c06961f4-2c30-4f86-9588-2abac4cbc4e3"
      },
      "source": [
        "pd.Series(cleanedList).describe()"
      ],
      "execution_count": 252,
      "outputs": [
        {
          "output_type": "execute_result",
          "data": {
            "text/plain": [
              "count   94777.000\n",
              "mean       62.399\n",
              "std       134.638\n",
              "min         0.148\n",
              "25%        25.000\n",
              "50%        39.000\n",
              "75%        64.833\n",
              "max      5999.000\n",
              "dtype: float64"
            ]
          },
          "metadata": {},
          "execution_count": 252
        }
      ]
    },
    {
      "cell_type": "markdown",
      "metadata": {
        "id": "PS2pRrYX_ult"
      },
      "source": [
        "## Goods"
      ]
    },
    {
      "cell_type": "code",
      "metadata": {
        "colab": {
          "base_uri": "https://localhost:8080/",
          "height": 297
        },
        "id": "Iw-5Fvjc_s3M",
        "outputId": "81aab39f-65bd-48a8-db96-50728807b190"
      },
      "source": [
        "goods = df1[(df1.Segment == 'Goods')]\n",
        "goods.describe()"
      ],
      "execution_count": 218,
      "outputs": [
        {
          "output_type": "execute_result",
          "data": {
            "text/html": [
              "<div>\n",
              "<style scoped>\n",
              "    .dataframe tbody tr th:only-of-type {\n",
              "        vertical-align: middle;\n",
              "    }\n",
              "\n",
              "    .dataframe tbody tr th {\n",
              "        vertical-align: top;\n",
              "    }\n",
              "\n",
              "    .dataframe thead th {\n",
              "        text-align: right;\n",
              "    }\n",
              "</style>\n",
              "<table border=\"1\" class=\"dataframe\">\n",
              "  <thead>\n",
              "    <tr style=\"text-align: right;\">\n",
              "      <th></th>\n",
              "      <th>Units Sold</th>\n",
              "      <th>Billings</th>\n",
              "    </tr>\n",
              "  </thead>\n",
              "  <tbody>\n",
              "    <tr>\n",
              "      <th>count</th>\n",
              "      <td>15234.000</td>\n",
              "      <td>15234.000</td>\n",
              "    </tr>\n",
              "    <tr>\n",
              "      <th>mean</th>\n",
              "      <td>683.980</td>\n",
              "      <td>18527.351</td>\n",
              "    </tr>\n",
              "    <tr>\n",
              "      <th>std</th>\n",
              "      <td>1924.979</td>\n",
              "      <td>66017.299</td>\n",
              "    </tr>\n",
              "    <tr>\n",
              "      <th>min</th>\n",
              "      <td>-1714.512</td>\n",
              "      <td>-147360.375</td>\n",
              "    </tr>\n",
              "    <tr>\n",
              "      <th>25%</th>\n",
              "      <td>34.224</td>\n",
              "      <td>1245.368</td>\n",
              "    </tr>\n",
              "    <tr>\n",
              "      <th>50%</th>\n",
              "      <td>189.796</td>\n",
              "      <td>5066.371</td>\n",
              "    </tr>\n",
              "    <tr>\n",
              "      <th>75%</th>\n",
              "      <td>591.652</td>\n",
              "      <td>14511.409</td>\n",
              "    </tr>\n",
              "    <tr>\n",
              "      <th>max</th>\n",
              "      <td>59800.000</td>\n",
              "      <td>2874885.000</td>\n",
              "    </tr>\n",
              "  </tbody>\n",
              "</table>\n",
              "</div>"
            ],
            "text/plain": [
              "       Units Sold    Billings\n",
              "count   15234.000   15234.000\n",
              "mean      683.980   18527.351\n",
              "std      1924.979   66017.299\n",
              "min     -1714.512 -147360.375\n",
              "25%        34.224    1245.368\n",
              "50%       189.796    5066.371\n",
              "75%       591.652   14511.409\n",
              "max     59800.000 2874885.000"
            ]
          },
          "metadata": {},
          "execution_count": 218
        }
      ]
    },
    {
      "cell_type": "code",
      "metadata": {
        "colab": {
          "base_uri": "https://localhost:8080/",
          "height": 224
        },
        "id": "HwzHCXOo_8ah",
        "outputId": "40720a1d-5587-4929-f802-45c029b515ea"
      },
      "source": [
        "plt.figure(figsize=(18,3))\n",
        "_=plt.boxplot(goods['Billings'],vert=False)"
      ],
      "execution_count": 219,
      "outputs": [
        {
          "output_type": "display_data",
          "data": {
            "image/png": "[encoded data removed]",
            "text/plain": [
              "<Figure size 1296x216 with 1 Axes>"
            ]
          },
          "metadata": {}
        }
      ]
    },
    {
      "cell_type": "code",
      "metadata": {
        "colab": {
          "base_uri": "https://localhost:8080/",
          "height": 204
        },
        "id": "CzpUa-KOAOCh",
        "outputId": "dbbaf490-b79b-4a1e-ddf2-cb1c2d801c66"
      },
      "source": [
        "goods.iloc[np.argsort(list(goods['Billings']))[-5:]]"
      ],
      "execution_count": 222,
      "outputs": [
        {
          "output_type": "execute_result",
          "data": {
            "text/html": [
              "<div>\n",
              "<style scoped>\n",
              "    .dataframe tbody tr th:only-of-type {\n",
              "        vertical-align: middle;\n",
              "    }\n",
              "\n",
              "    .dataframe tbody tr th {\n",
              "        vertical-align: top;\n",
              "    }\n",
              "\n",
              "    .dataframe thead th {\n",
              "        text-align: right;\n",
              "    }\n",
              "</style>\n",
              "<table border=\"1\" class=\"dataframe\">\n",
              "  <thead>\n",
              "    <tr style=\"text-align: right;\">\n",
              "      <th></th>\n",
              "      <th>Deal ID</th>\n",
              "      <th>Units Sold</th>\n",
              "      <th>Billings</th>\n",
              "      <th>Start Date</th>\n",
              "      <th>Deal URL</th>\n",
              "      <th>Segment</th>\n",
              "      <th>Inventory Type</th>\n",
              "    </tr>\n",
              "  </thead>\n",
              "  <tbody>\n",
              "    <tr>\n",
              "      <th>118321</th>\n",
              "      <td>gg-brookstone-25-for-50-worth-of-merchandise-i...</td>\n",
              "      <td>57500.000</td>\n",
              "      <td>1437500.000</td>\n",
              "      <td>2013-12-02</td>\n",
              "      <td>http://www.groupon.com/deals/gg-brookstone-25-...</td>\n",
              "      <td>Goods</td>\n",
              "      <td>Third - Party</td>\n",
              "    </tr>\n",
              "    <tr>\n",
              "      <th>109900</th>\n",
              "      <td>gg-google-nexus-7-by-asus-16gb-or-32gb</td>\n",
              "      <td>10046.400</td>\n",
              "      <td>1456627.536</td>\n",
              "      <td>2013-11-27</td>\n",
              "      <td>http://www.groupon.com/deals/gg-google-nexus-7...</td>\n",
              "      <td>Goods</td>\n",
              "      <td>First - Party</td>\n",
              "    </tr>\n",
              "    <tr>\n",
              "      <th>76117</th>\n",
              "      <td>gg-one-year-sams-club-membership-package</td>\n",
              "      <td>41860.000</td>\n",
              "      <td>1883700.000</td>\n",
              "      <td>2013-11-06</td>\n",
              "      <td>http://www.groupon.com/deals/gg-one-year-sams-...</td>\n",
              "      <td>Goods</td>\n",
              "      <td>Third - Party</td>\n",
              "    </tr>\n",
              "    <tr>\n",
              "      <th>64622</th>\n",
              "      <td>gg-beats-by-dr-dre-beats-studio-over-the-ear-h...</td>\n",
              "      <td>15520.860</td>\n",
              "      <td>2638390.991</td>\n",
              "      <td>2013-11-18</td>\n",
              "      <td>http://www.groupon.com/deals/gg-beats-by-dr-dr...</td>\n",
              "      <td>Goods</td>\n",
              "      <td>First - Party</td>\n",
              "    </tr>\n",
              "    <tr>\n",
              "      <th>121307</th>\n",
              "      <td>gg-dyson-dc40-animal-upright-vacuum-cleaner</td>\n",
              "      <td>11500.000</td>\n",
              "      <td>2874885.000</td>\n",
              "      <td>2013-12-12</td>\n",
              "      <td>http://www.groupon.com/deals/gg-dyson-dc40-ani...</td>\n",
              "      <td>Goods</td>\n",
              "      <td>First - Party</td>\n",
              "    </tr>\n",
              "  </tbody>\n",
              "</table>\n",
              "</div>"
            ],
            "text/plain": [
              "                                                  Deal ID  ...  Inventory Type\n",
              "118321  gg-brookstone-25-for-50-worth-of-merchandise-i...  ...   Third - Party\n",
              "109900             gg-google-nexus-7-by-asus-16gb-or-32gb  ...   First - Party\n",
              "76117            gg-one-year-sams-club-membership-package  ...   Third - Party\n",
              "64622   gg-beats-by-dr-dre-beats-studio-over-the-ear-h...  ...   First - Party\n",
              "121307        gg-dyson-dc40-animal-upright-vacuum-cleaner  ...   First - Party\n",
              "\n",
              "[5 rows x 7 columns]"
            ]
          },
          "metadata": {},
          "execution_count": 222
        }
      ]
    },
    {
      "cell_type": "code",
      "metadata": {
        "colab": {
          "base_uri": "https://localhost:8080/",
          "height": 204
        },
        "id": "vA6cHoqwAVNu",
        "outputId": "db254c93-c8e8-4514-9a8e-2c1a4caddd63"
      },
      "source": [
        "goods.iloc[np.argsort(list(goods['Billings']))[:5]]"
      ],
      "execution_count": 224,
      "outputs": [
        {
          "output_type": "execute_result",
          "data": {
            "text/html": [
              "<div>\n",
              "<style scoped>\n",
              "    .dataframe tbody tr th:only-of-type {\n",
              "        vertical-align: middle;\n",
              "    }\n",
              "\n",
              "    .dataframe tbody tr th {\n",
              "        vertical-align: top;\n",
              "    }\n",
              "\n",
              "    .dataframe thead th {\n",
              "        text-align: right;\n",
              "    }\n",
              "</style>\n",
              "<table border=\"1\" class=\"dataframe\">\n",
              "  <thead>\n",
              "    <tr style=\"text-align: right;\">\n",
              "      <th></th>\n",
              "      <th>Deal ID</th>\n",
              "      <th>Units Sold</th>\n",
              "      <th>Billings</th>\n",
              "      <th>Start Date</th>\n",
              "      <th>Deal URL</th>\n",
              "      <th>Segment</th>\n",
              "      <th>Inventory Type</th>\n",
              "    </tr>\n",
              "  </thead>\n",
              "  <tbody>\n",
              "    <tr>\n",
              "      <th>44690</th>\n",
              "      <td>gg-samsung-hw-e450-audiobar</td>\n",
              "      <td>-982.468</td>\n",
              "      <td>-147360.375</td>\n",
              "      <td>2013-09-25</td>\n",
              "      <td>http://www.groupon.com/deals/gg-samsung-hw-e45...</td>\n",
              "      <td>Goods</td>\n",
              "      <td>First - Party</td>\n",
              "    </tr>\n",
              "    <tr>\n",
              "      <th>43996</th>\n",
              "      <td>gg-1-lg-60ls5750</td>\n",
              "      <td>-50.140</td>\n",
              "      <td>-55153.499</td>\n",
              "      <td>2013-09-21</td>\n",
              "      <td>http://www.groupon.com/deals/gg-1-lg-60ls5750</td>\n",
              "      <td>Goods</td>\n",
              "      <td>First - Party</td>\n",
              "    </tr>\n",
              "    <tr>\n",
              "      <th>42283</th>\n",
              "      <td>gg-asus-transformer-tf700-with-dock</td>\n",
              "      <td>-117.944</td>\n",
              "      <td>-42933.841</td>\n",
              "      <td>2013-09-17</td>\n",
              "      <td>http://www.groupon.com/deals/gg-asus-transform...</td>\n",
              "      <td>Goods</td>\n",
              "      <td>First - Party</td>\n",
              "    </tr>\n",
              "    <tr>\n",
              "      <th>44458</th>\n",
              "      <td>gg-1-toshiba-laptops-p75-a7200</td>\n",
              "      <td>-70.196</td>\n",
              "      <td>-38607.098</td>\n",
              "      <td>2013-09-24</td>\n",
              "      <td>http://www.groupon.com/deals/gg-1-toshiba-lapt...</td>\n",
              "      <td>Goods</td>\n",
              "      <td>First - Party</td>\n",
              "    </tr>\n",
              "    <tr>\n",
              "      <th>40097</th>\n",
              "      <td>gg-seven7-womens-jeans-and-denim-leggings</td>\n",
              "      <td>-983.572</td>\n",
              "      <td>-34415.184</td>\n",
              "      <td>2013-09-08</td>\n",
              "      <td>http://www.groupon.com/deals/gg-seven7-womens-...</td>\n",
              "      <td>Goods</td>\n",
              "      <td>First - Party</td>\n",
              "    </tr>\n",
              "  </tbody>\n",
              "</table>\n",
              "</div>"
            ],
            "text/plain": [
              "                                         Deal ID  ...  Inventory Type\n",
              "44690                gg-samsung-hw-e450-audiobar  ...   First - Party\n",
              "43996                           gg-1-lg-60ls5750  ...   First - Party\n",
              "42283        gg-asus-transformer-tf700-with-dock  ...   First - Party\n",
              "44458             gg-1-toshiba-laptops-p75-a7200  ...   First - Party\n",
              "40097  gg-seven7-womens-jeans-and-denim-leggings  ...   First - Party\n",
              "\n",
              "[5 rows x 7 columns]"
            ]
          },
          "metadata": {},
          "execution_count": 224
        }
      ]
    },
    {
      "cell_type": "code",
      "metadata": {
        "colab": {
          "base_uri": "https://localhost:8080/",
          "height": 211
        },
        "id": "6xoEg8z5AHQb",
        "outputId": "10dc8b10-0f2f-4f93-d5f8-20bdea895eef"
      },
      "source": [
        "plt.figure(figsize=(18,3))\n",
        "_=plt.boxplot(goods['Units Sold'],vert=False)"
      ],
      "execution_count": 220,
      "outputs": [
        {
          "output_type": "display_data",
          "data": {
            "image/png": "[encoded data removed]",
            "text/plain": [
              "<Figure size 1296x216 with 1 Axes>"
            ]
          },
          "metadata": {}
        }
      ]
    },
    {
      "cell_type": "code",
      "metadata": {
        "colab": {
          "base_uri": "https://localhost:8080/",
          "height": 204
        },
        "id": "6b-zTAM_AeDF",
        "outputId": "fbb960e5-398a-482d-a609-084c8ee4596a"
      },
      "source": [
        "goods.iloc[np.argsort(list(goods['Units Sold']))[:5]]"
      ],
      "execution_count": 225,
      "outputs": [
        {
          "output_type": "execute_result",
          "data": {
            "text/html": [
              "<div>\n",
              "<style scoped>\n",
              "    .dataframe tbody tr th:only-of-type {\n",
              "        vertical-align: middle;\n",
              "    }\n",
              "\n",
              "    .dataframe tbody tr th {\n",
              "        vertical-align: top;\n",
              "    }\n",
              "\n",
              "    .dataframe thead th {\n",
              "        text-align: right;\n",
              "    }\n",
              "</style>\n",
              "<table border=\"1\" class=\"dataframe\">\n",
              "  <thead>\n",
              "    <tr style=\"text-align: right;\">\n",
              "      <th></th>\n",
              "      <th>Deal ID</th>\n",
              "      <th>Units Sold</th>\n",
              "      <th>Billings</th>\n",
              "      <th>Start Date</th>\n",
              "      <th>Deal URL</th>\n",
              "      <th>Segment</th>\n",
              "      <th>Inventory Type</th>\n",
              "    </tr>\n",
              "  </thead>\n",
              "  <tbody>\n",
              "    <tr>\n",
              "      <th>44462</th>\n",
              "      <td>gg-hype-wireless-mouse</td>\n",
              "      <td>-1714.512</td>\n",
              "      <td>-11984.439</td>\n",
              "      <td>2013-09-24</td>\n",
              "      <td>http://www.groupon.com/deals/gg-hype-wireless-...</td>\n",
              "      <td>Goods</td>\n",
              "      <td>First - Party</td>\n",
              "    </tr>\n",
              "    <tr>\n",
              "      <th>40097</th>\n",
              "      <td>gg-seven7-womens-jeans-and-denim-leggings</td>\n",
              "      <td>-983.572</td>\n",
              "      <td>-34415.184</td>\n",
              "      <td>2013-09-08</td>\n",
              "      <td>http://www.groupon.com/deals/gg-seven7-womens-...</td>\n",
              "      <td>Goods</td>\n",
              "      <td>First - Party</td>\n",
              "    </tr>\n",
              "    <tr>\n",
              "      <th>44690</th>\n",
              "      <td>gg-samsung-hw-e450-audiobar</td>\n",
              "      <td>-982.468</td>\n",
              "      <td>-147360.375</td>\n",
              "      <td>2013-09-25</td>\n",
              "      <td>http://www.groupon.com/deals/gg-samsung-hw-e45...</td>\n",
              "      <td>Goods</td>\n",
              "      <td>First - Party</td>\n",
              "    </tr>\n",
              "    <tr>\n",
              "      <th>15760</th>\n",
              "      <td>gg-geneva-silicone-watch</td>\n",
              "      <td>-711.712</td>\n",
              "      <td>-4974.867</td>\n",
              "      <td>2013-04-26</td>\n",
              "      <td>http://www.groupon.com/deals/gg-geneva-silicon...</td>\n",
              "      <td>Goods</td>\n",
              "      <td>First - Party</td>\n",
              "    </tr>\n",
              "    <tr>\n",
              "      <th>45271</th>\n",
              "      <td>gg-rockstar-personal-massager-1</td>\n",
              "      <td>-691.656</td>\n",
              "      <td>-13826.203</td>\n",
              "      <td>2013-09-26</td>\n",
              "      <td>http://www.groupon.com/deals/gg-rockstar-perso...</td>\n",
              "      <td>Goods</td>\n",
              "      <td>First - Party</td>\n",
              "    </tr>\n",
              "  </tbody>\n",
              "</table>\n",
              "</div>"
            ],
            "text/plain": [
              "                                         Deal ID  ...  Inventory Type\n",
              "44462                     gg-hype-wireless-mouse  ...   First - Party\n",
              "40097  gg-seven7-womens-jeans-and-denim-leggings  ...   First - Party\n",
              "44690                gg-samsung-hw-e450-audiobar  ...   First - Party\n",
              "15760                   gg-geneva-silicone-watch  ...   First - Party\n",
              "45271            gg-rockstar-personal-massager-1  ...   First - Party\n",
              "\n",
              "[5 rows x 7 columns]"
            ]
          },
          "metadata": {},
          "execution_count": 225
        }
      ]
    },
    {
      "cell_type": "code",
      "metadata": {
        "colab": {
          "base_uri": "https://localhost:8080/",
          "height": 204
        },
        "id": "ij3-uKobAo0E",
        "outputId": "9888a913-d4db-4955-f7f0-fc7208f50365"
      },
      "source": [
        "goods.iloc[np.argsort(list(goods['Units Sold']))[-5:]]"
      ],
      "execution_count": 226,
      "outputs": [
        {
          "output_type": "execute_result",
          "data": {
            "text/html": [
              "<div>\n",
              "<style scoped>\n",
              "    .dataframe tbody tr th:only-of-type {\n",
              "        vertical-align: middle;\n",
              "    }\n",
              "\n",
              "    .dataframe tbody tr th {\n",
              "        vertical-align: top;\n",
              "    }\n",
              "\n",
              "    .dataframe thead th {\n",
              "        text-align: right;\n",
              "    }\n",
              "</style>\n",
              "<table border=\"1\" class=\"dataframe\">\n",
              "  <thead>\n",
              "    <tr style=\"text-align: right;\">\n",
              "      <th></th>\n",
              "      <th>Deal ID</th>\n",
              "      <th>Units Sold</th>\n",
              "      <th>Billings</th>\n",
              "      <th>Start Date</th>\n",
              "      <th>Deal URL</th>\n",
              "      <th>Segment</th>\n",
              "      <th>Inventory Type</th>\n",
              "    </tr>\n",
              "  </thead>\n",
              "  <tbody>\n",
              "    <tr>\n",
              "      <th>76117</th>\n",
              "      <td>gg-one-year-sams-club-membership-package</td>\n",
              "      <td>41860.000</td>\n",
              "      <td>1883700.000</td>\n",
              "      <td>2013-11-06</td>\n",
              "      <td>http://www.groupon.com/deals/gg-one-year-sams-...</td>\n",
              "      <td>Goods</td>\n",
              "      <td>Third - Party</td>\n",
              "    </tr>\n",
              "    <tr>\n",
              "      <th>78180</th>\n",
              "      <td>gg-b2g1-usa-nutra-labs-garcinia-cambogia</td>\n",
              "      <td>43534.400</td>\n",
              "      <td>853508.656</td>\n",
              "      <td>2013-11-25</td>\n",
              "      <td>http://www.groupon.com/deals/gg-b2g1-usa-nutra...</td>\n",
              "      <td>Goods</td>\n",
              "      <td>First - Party</td>\n",
              "    </tr>\n",
              "    <tr>\n",
              "      <th>48996</th>\n",
              "      <td>gg-garcinia-cambogia-1300</td>\n",
              "      <td>43534.400</td>\n",
              "      <td>1067831.856</td>\n",
              "      <td>2013-10-04</td>\n",
              "      <td>http://www.groupon.com/deals/gg-garcinia-cambo...</td>\n",
              "      <td>Goods</td>\n",
              "      <td>First - Party</td>\n",
              "    </tr>\n",
              "    <tr>\n",
              "      <th>118321</th>\n",
              "      <td>gg-brookstone-25-for-50-worth-of-merchandise-i...</td>\n",
              "      <td>57500.000</td>\n",
              "      <td>1437500.000</td>\n",
              "      <td>2013-12-02</td>\n",
              "      <td>http://www.groupon.com/deals/gg-brookstone-25-...</td>\n",
              "      <td>Goods</td>\n",
              "      <td>Third - Party</td>\n",
              "    </tr>\n",
              "    <tr>\n",
              "      <th>120521</th>\n",
              "      <td>gg-b2g1-usa-nutra-labs-garcinia-cambogia-1</td>\n",
              "      <td>59800.000</td>\n",
              "      <td>1172402.000</td>\n",
              "      <td>2013-12-07</td>\n",
              "      <td>http://www.groupon.com/deals/gg-b2g1-usa-nutra...</td>\n",
              "      <td>Goods</td>\n",
              "      <td>First - Party</td>\n",
              "    </tr>\n",
              "  </tbody>\n",
              "</table>\n",
              "</div>"
            ],
            "text/plain": [
              "                                                  Deal ID  ...  Inventory Type\n",
              "76117            gg-one-year-sams-club-membership-package  ...   Third - Party\n",
              "78180            gg-b2g1-usa-nutra-labs-garcinia-cambogia  ...   First - Party\n",
              "48996                           gg-garcinia-cambogia-1300  ...   First - Party\n",
              "118321  gg-brookstone-25-for-50-worth-of-merchandise-i...  ...   Third - Party\n",
              "120521         gg-b2g1-usa-nutra-labs-garcinia-cambogia-1  ...   First - Party\n",
              "\n",
              "[5 rows x 7 columns]"
            ]
          },
          "metadata": {},
          "execution_count": 226
        }
      ]
    },
    {
      "cell_type": "code",
      "metadata": {
        "colab": {
          "base_uri": "https://localhost:8080/",
          "height": 320
        },
        "id": "y5cElcWuAura",
        "outputId": "fe2782e3-3127-4bd0-90d0-fcf46f8c6567"
      },
      "source": [
        "plt.figure(figsize=(15,5))\n",
        "_=plt.hist(goods['Start Date'],bins=200)"
      ],
      "execution_count": 227,
      "outputs": [
        {
          "output_type": "display_data",
          "data": {
            "image/png": "[encoded data removed]",
            "text/plain": [
              "<Figure size 1080x360 with 1 Axes>"
            ]
          },
          "metadata": {}
        }
      ]
    },
    {
      "cell_type": "code",
      "metadata": {
        "colab": {
          "base_uri": "https://localhost:8080/"
        },
        "id": "BUpQ37jsA6Ex",
        "outputId": "212010d7-dd50-4082-bc50-d093a60b1306"
      },
      "source": [
        "goods['Unit Price'] = goods.apply(lambda x: np.nan if x['Billings'] == 0 else x['Billings']/x['Units Sold'], axis=1)"
      ],
      "execution_count": 238,
      "outputs": [
        {
          "output_type": "stream",
          "name": "stderr",
          "text": [
            "/usr/local/lib/python3.7/dist-packages/ipykernel_launcher.py:1: SettingWithCopyWarning: \n",
            "A value is trying to be set on a copy of a slice from a DataFrame.\n",
            "Try using .loc[row_indexer,col_indexer] = value instead\n",
            "\n",
            "See the caveats in the documentation: https://pandas.pydata.org/pandas-docs/stable/user_guide/indexing.html#returning-a-view-versus-a-copy\n",
            "  \"\"\"Entry point for launching an IPython kernel.\n"
          ]
        }
      ]
    },
    {
      "cell_type": "code",
      "metadata": {
        "colab": {
          "base_uri": "https://localhost:8080/",
          "height": 224
        },
        "id": "gEUml3QKBAGg",
        "outputId": "0acdba41-916b-4071-d5ca-87c276c8f3b9"
      },
      "source": [
        "cleanedList = [x for x in list(goods['Unit Price']) if str(x) != 'nan']\n",
        "plt.figure(figsize=(18,3))\n",
        "_=plt.boxplot(cleanedList,vert=False)"
      ],
      "execution_count": 249,
      "outputs": [
        {
          "output_type": "display_data",
          "data": {
            "image/png": "[encoded data removed]",
            "text/plain": [
              "<Figure size 1296x216 with 1 Axes>"
            ]
          },
          "metadata": {}
        }
      ]
    },
    {
      "cell_type": "code",
      "metadata": {
        "colab": {
          "base_uri": "https://localhost:8080/",
          "height": 204
        },
        "id": "308-LQQYCwAK",
        "outputId": "b13386ea-39e7-4fb3-a786-ca75d9458f55"
      },
      "source": [
        "goods.iloc[np.argsort(list(goods['Unit Price']))[:5]]"
      ],
      "execution_count": 254,
      "outputs": [
        {
          "output_type": "execute_result",
          "data": {
            "text/html": [
              "<div>\n",
              "<style scoped>\n",
              "    .dataframe tbody tr th:only-of-type {\n",
              "        vertical-align: middle;\n",
              "    }\n",
              "\n",
              "    .dataframe tbody tr th {\n",
              "        vertical-align: top;\n",
              "    }\n",
              "\n",
              "    .dataframe thead th {\n",
              "        text-align: right;\n",
              "    }\n",
              "</style>\n",
              "<table border=\"1\" class=\"dataframe\">\n",
              "  <thead>\n",
              "    <tr style=\"text-align: right;\">\n",
              "      <th></th>\n",
              "      <th>Deal ID</th>\n",
              "      <th>Units Sold</th>\n",
              "      <th>Billings</th>\n",
              "      <th>Start Date</th>\n",
              "      <th>Deal URL</th>\n",
              "      <th>Segment</th>\n",
              "      <th>Inventory Type</th>\n",
              "      <th>Unit Price</th>\n",
              "    </tr>\n",
              "  </thead>\n",
              "  <tbody>\n",
              "    <tr>\n",
              "      <th>77799</th>\n",
              "      <td>gg-samsung-galaxy-s4-mini-in-black</td>\n",
              "      <td>471.316</td>\n",
              "      <td>4.713</td>\n",
              "      <td>2013-11-23</td>\n",
              "      <td>http://www.groupon.com/deals/gg-samsung-galaxy...</td>\n",
              "      <td>Goods</td>\n",
              "      <td>Third - Party</td>\n",
              "      <td>0.010</td>\n",
              "    </tr>\n",
              "    <tr>\n",
              "      <th>131642</th>\n",
              "      <td>gg-sterling-silver-cross-pendants</td>\n",
              "      <td>301.162</td>\n",
              "      <td>331.037</td>\n",
              "      <td>2013-12-01</td>\n",
              "      <td>http://www.groupon.com/deals/gg-sterling-silve...</td>\n",
              "      <td>Goods</td>\n",
              "      <td>First - Party</td>\n",
              "      <td>1.099</td>\n",
              "    </tr>\n",
              "    <tr>\n",
              "      <th>56454</th>\n",
              "      <td>gg-iluv-keeper-earphone-winder-with-ear-tips</td>\n",
              "      <td>1367.580</td>\n",
              "      <td>2721.484</td>\n",
              "      <td>2013-10-24</td>\n",
              "      <td>http://www.groupon.com/deals/gg-iluv-keeper-ea...</td>\n",
              "      <td>Goods</td>\n",
              "      <td>First - Party</td>\n",
              "      <td>1.990</td>\n",
              "    </tr>\n",
              "    <tr>\n",
              "      <th>76049</th>\n",
              "      <td>gg-10-device-universal-remote</td>\n",
              "      <td>451.260</td>\n",
              "      <td>898.007</td>\n",
              "      <td>2013-11-05</td>\n",
              "      <td>http://www.groupon.com/deals/gg-10-device-univ...</td>\n",
              "      <td>Goods</td>\n",
              "      <td>First - Party</td>\n",
              "      <td>1.990</td>\n",
              "    </tr>\n",
              "    <tr>\n",
              "      <th>42966</th>\n",
              "      <td>gg-iluv-keeper-earphone-winder</td>\n",
              "      <td>71.576</td>\n",
              "      <td>142.436</td>\n",
              "      <td>2013-09-19</td>\n",
              "      <td>http://www.groupon.com/deals/gg-iluv-keeper-ea...</td>\n",
              "      <td>Goods</td>\n",
              "      <td>First - Party</td>\n",
              "      <td>1.990</td>\n",
              "    </tr>\n",
              "  </tbody>\n",
              "</table>\n",
              "</div>"
            ],
            "text/plain": [
              "                                             Deal ID  ...  Unit Price\n",
              "77799             gg-samsung-galaxy-s4-mini-in-black  ...       0.010\n",
              "131642             gg-sterling-silver-cross-pendants  ...       1.099\n",
              "56454   gg-iluv-keeper-earphone-winder-with-ear-tips  ...       1.990\n",
              "76049                  gg-10-device-universal-remote  ...       1.990\n",
              "42966                 gg-iluv-keeper-earphone-winder  ...       1.990\n",
              "\n",
              "[5 rows x 8 columns]"
            ]
          },
          "metadata": {},
          "execution_count": 254
        }
      ]
    },
    {
      "cell_type": "code",
      "metadata": {
        "colab": {
          "base_uri": "https://localhost:8080/",
          "height": 266
        },
        "id": "2K_pkuDWC9dA",
        "outputId": "76b8ccdd-8a10-4479-88bd-d7c6bd9a4c00"
      },
      "source": [
        "goods.iloc[np.argsort(list(goods['Unit Price']))[-561:-554]]"
      ],
      "execution_count": 265,
      "outputs": [
        {
          "output_type": "execute_result",
          "data": {
            "text/html": [
              "<div>\n",
              "<style scoped>\n",
              "    .dataframe tbody tr th:only-of-type {\n",
              "        vertical-align: middle;\n",
              "    }\n",
              "\n",
              "    .dataframe tbody tr th {\n",
              "        vertical-align: top;\n",
              "    }\n",
              "\n",
              "    .dataframe thead th {\n",
              "        text-align: right;\n",
              "    }\n",
              "</style>\n",
              "<table border=\"1\" class=\"dataframe\">\n",
              "  <thead>\n",
              "    <tr style=\"text-align: right;\">\n",
              "      <th></th>\n",
              "      <th>Deal ID</th>\n",
              "      <th>Units Sold</th>\n",
              "      <th>Billings</th>\n",
              "      <th>Start Date</th>\n",
              "      <th>Deal URL</th>\n",
              "      <th>Segment</th>\n",
              "      <th>Inventory Type</th>\n",
              "      <th>Unit Price</th>\n",
              "    </tr>\n",
              "  </thead>\n",
              "  <tbody>\n",
              "    <tr>\n",
              "      <th>33450</th>\n",
              "      <td>gg-rlc-ultimate-bed-bug-mattress-protector</td>\n",
              "      <td>-0.000</td>\n",
              "      <td>-50.140</td>\n",
              "      <td>2013-08-13</td>\n",
              "      <td>http://www.groupon.com/deals/gg-rlc-ultimate-b...</td>\n",
              "      <td>Goods</td>\n",
              "      <td>First - Party</td>\n",
              "      <td>479387069710343.750</td>\n",
              "    </tr>\n",
              "    <tr>\n",
              "      <th>26964</th>\n",
              "      <td>gg-1-jessica-simpson-jewelry</td>\n",
              "      <td>-0.000</td>\n",
              "      <td>-13.340</td>\n",
              "      <td>2013-07-11</td>\n",
              "      <td>http://www.groupon.com/deals/gg-1-jessica-simp...</td>\n",
              "      <td>Goods</td>\n",
              "      <td>First - Party</td>\n",
              "      <td>627905717277627.000</td>\n",
              "    </tr>\n",
              "    <tr>\n",
              "      <th>15933</th>\n",
              "      <td>gg-ca-jbw-mixed-diamond-watches</td>\n",
              "      <td>0.000</td>\n",
              "      <td>86.710</td>\n",
              "      <td>2013-05-01</td>\n",
              "      <td>http://www.groupon.com/deals/gg-ca-jbw-mixed-d...</td>\n",
              "      <td>Goods</td>\n",
              "      <td>First - Party</td>\n",
              "      <td>3690993607649413.500</td>\n",
              "    </tr>\n",
              "    <tr>\n",
              "      <th>23700</th>\n",
              "      <td>gg-vintage-themed-diamond-jewelry</td>\n",
              "      <td>-0.000</td>\n",
              "      <td>-13.340</td>\n",
              "      <td>2013-06-24</td>\n",
              "      <td>http://www.groupon.com/deals/gg-vintage-themed...</td>\n",
              "      <td>Goods</td>\n",
              "      <td>First - Party</td>\n",
              "      <td>5023245738220859.000</td>\n",
              "    </tr>\n",
              "    <tr>\n",
              "      <th>15655</th>\n",
              "      <td>gg-petstages-dog-toys-2</td>\n",
              "      <td>0.000</td>\n",
              "      <td>278.760</td>\n",
              "      <td>2013-04-24</td>\n",
              "      <td>http://www.groupon.com/deals/gg-petstages-dog-...</td>\n",
              "      <td>Goods</td>\n",
              "      <td>First - Party</td>\n",
              "      <td>21321729485832216.000</td>\n",
              "    </tr>\n",
              "    <tr>\n",
              "      <th>25880</th>\n",
              "      <td>gg-evening-clutch-handbag</td>\n",
              "      <td>0.000</td>\n",
              "      <td>40.020</td>\n",
              "      <td>2013-07-06</td>\n",
              "      <td>http://www.groupon.com/deals/gg-evening-clutch...</td>\n",
              "      <td>Goods</td>\n",
              "      <td>First - Party</td>\n",
              "      <td>65302194596872192.000</td>\n",
              "    </tr>\n",
              "    <tr>\n",
              "      <th>17732</th>\n",
              "      <td>gg-white-diamond-heart-pendant-necklaces</td>\n",
              "      <td>-0.000</td>\n",
              "      <td>-126.730</td>\n",
              "      <td>2013-05-23</td>\n",
              "      <td>http://www.groupon.com/deals/gg-white-diamond-...</td>\n",
              "      <td>Goods</td>\n",
              "      <td>First - Party</td>\n",
              "      <td>620370848670285952.000</td>\n",
              "    </tr>\n",
              "  </tbody>\n",
              "</table>\n",
              "</div>"
            ],
            "text/plain": [
              "                                          Deal ID  ...             Unit Price\n",
              "33450  gg-rlc-ultimate-bed-bug-mattress-protector  ...    479387069710343.750\n",
              "26964                gg-1-jessica-simpson-jewelry  ...    627905717277627.000\n",
              "15933             gg-ca-jbw-mixed-diamond-watches  ...   3690993607649413.500\n",
              "23700           gg-vintage-themed-diamond-jewelry  ...   5023245738220859.000\n",
              "15655                     gg-petstages-dog-toys-2  ...  21321729485832216.000\n",
              "25880                   gg-evening-clutch-handbag  ...  65302194596872192.000\n",
              "17732    gg-white-diamond-heart-pendant-necklaces  ... 620370848670285952.000\n",
              "\n",
              "[7 rows x 8 columns]"
            ]
          },
          "metadata": {},
          "execution_count": 265
        }
      ]
    },
    {
      "cell_type": "code",
      "metadata": {
        "colab": {
          "base_uri": "https://localhost:8080/",
          "height": 211
        },
        "id": "Tqp2TpoaBFr_",
        "outputId": "92e791c2-7285-407e-a45a-9531201e9036"
      },
      "source": [
        "cleanedList = [x for x in list(goods.iloc[np.argsort(list(goods['Unit Price']))[:-561]]['Unit Price']) if str(x) != 'nan']\n",
        "plt.figure(figsize=(18,3))\n",
        "_=plt.boxplot(cleanedList,vert=False)"
      ],
      "execution_count": 266,
      "outputs": [
        {
          "output_type": "display_data",
          "data": {
            "image/png": "[encoded data removed]",
            "text/plain": [
              "<Figure size 1296x216 with 1 Axes>"
            ]
          },
          "metadata": {}
        }
      ]
    },
    {
      "cell_type": "markdown",
      "metadata": {
        "id": "RRfr8Ws3Fs_6"
      },
      "source": [
        "## Travel"
      ]
    },
    {
      "cell_type": "code",
      "metadata": {
        "colab": {
          "base_uri": "https://localhost:8080/",
          "height": 297
        },
        "id": "Fn1ARzXrFvPb",
        "outputId": "78cd7385-1555-4375-8c4e-26e7e674fc68"
      },
      "source": [
        "travel = df1[(df1.Segment == 'Travel')]\n",
        "travel.describe()"
      ],
      "execution_count": 268,
      "outputs": [
        {
          "output_type": "execute_result",
          "data": {
            "text/html": [
              "<div>\n",
              "<style scoped>\n",
              "    .dataframe tbody tr th:only-of-type {\n",
              "        vertical-align: middle;\n",
              "    }\n",
              "\n",
              "    .dataframe tbody tr th {\n",
              "        vertical-align: top;\n",
              "    }\n",
              "\n",
              "    .dataframe thead th {\n",
              "        text-align: right;\n",
              "    }\n",
              "</style>\n",
              "<table border=\"1\" class=\"dataframe\">\n",
              "  <thead>\n",
              "    <tr style=\"text-align: right;\">\n",
              "      <th></th>\n",
              "      <th>Units Sold</th>\n",
              "      <th>Billings</th>\n",
              "    </tr>\n",
              "  </thead>\n",
              "  <tbody>\n",
              "    <tr>\n",
              "      <th>count</th>\n",
              "      <td>2724.000</td>\n",
              "      <td>2724.000</td>\n",
              "    </tr>\n",
              "    <tr>\n",
              "      <th>mean</th>\n",
              "      <td>139.101</td>\n",
              "      <td>25900.170</td>\n",
              "    </tr>\n",
              "    <tr>\n",
              "      <th>std</th>\n",
              "      <td>268.946</td>\n",
              "      <td>70757.973</td>\n",
              "    </tr>\n",
              "    <tr>\n",
              "      <th>min</th>\n",
              "      <td>-424.000</td>\n",
              "      <td>-75024.000</td>\n",
              "    </tr>\n",
              "    <tr>\n",
              "      <th>25%</th>\n",
              "      <td>2.900</td>\n",
              "      <td>288.188</td>\n",
              "    </tr>\n",
              "    <tr>\n",
              "      <th>50%</th>\n",
              "      <td>37.200</td>\n",
              "      <td>5759.800</td>\n",
              "    </tr>\n",
              "    <tr>\n",
              "      <th>75%</th>\n",
              "      <td>155.650</td>\n",
              "      <td>23840.350</td>\n",
              "    </tr>\n",
              "    <tr>\n",
              "      <th>max</th>\n",
              "      <td>3511.800</td>\n",
              "      <td>1552777.400</td>\n",
              "    </tr>\n",
              "  </tbody>\n",
              "</table>\n",
              "</div>"
            ],
            "text/plain": [
              "       Units Sold    Billings\n",
              "count    2724.000    2724.000\n",
              "mean      139.101   25900.170\n",
              "std       268.946   70757.973\n",
              "min      -424.000  -75024.000\n",
              "25%         2.900     288.188\n",
              "50%        37.200    5759.800\n",
              "75%       155.650   23840.350\n",
              "max      3511.800 1552777.400"
            ]
          },
          "metadata": {},
          "execution_count": 268
        }
      ]
    },
    {
      "cell_type": "code",
      "metadata": {
        "colab": {
          "base_uri": "https://localhost:8080/",
          "height": 224
        },
        "id": "eljCnR4JGBGu",
        "outputId": "8c69513a-2d54-4b81-8e7c-0a429c60661d"
      },
      "source": [
        "plt.figure(figsize=(18,3))\n",
        "_=plt.boxplot(travel['Billings'],vert=False)"
      ],
      "execution_count": 269,
      "outputs": [
        {
          "output_type": "display_data",
          "data": {
            "image/png": "[encoded data removed]",
            "text/plain": [
              "<Figure size 1296x216 with 1 Axes>"
            ]
          },
          "metadata": {}
        }
      ]
    },
    {
      "cell_type": "code",
      "metadata": {
        "colab": {
          "base_uri": "https://localhost:8080/",
          "height": 204
        },
        "id": "xrvSUo9PGoy3",
        "outputId": "7f360e54-c6b2-4b9c-b57d-992815023c2a"
      },
      "source": [
        "travel.iloc[np.argsort(list(travel['Billings']))[-5:]]"
      ],
      "execution_count": 271,
      "outputs": [
        {
          "output_type": "execute_result",
          "data": {
            "text/html": [
              "<div>\n",
              "<style scoped>\n",
              "    .dataframe tbody tr th:only-of-type {\n",
              "        vertical-align: middle;\n",
              "    }\n",
              "\n",
              "    .dataframe tbody tr th {\n",
              "        vertical-align: top;\n",
              "    }\n",
              "\n",
              "    .dataframe thead th {\n",
              "        text-align: right;\n",
              "    }\n",
              "</style>\n",
              "<table border=\"1\" class=\"dataframe\">\n",
              "  <thead>\n",
              "    <tr style=\"text-align: right;\">\n",
              "      <th></th>\n",
              "      <th>Deal ID</th>\n",
              "      <th>Units Sold</th>\n",
              "      <th>Billings</th>\n",
              "      <th>Start Date</th>\n",
              "      <th>Deal URL</th>\n",
              "      <th>Segment</th>\n",
              "      <th>Inventory Type</th>\n",
              "    </tr>\n",
              "  </thead>\n",
              "  <tbody>\n",
              "    <tr>\n",
              "      <th>68033</th>\n",
              "      <td>ga-great-value-vacations-ireland-1</td>\n",
              "      <td>499.300</td>\n",
              "      <td>649765.700</td>\n",
              "      <td>2013-11-25</td>\n",
              "      <td>http://www.groupon.com/deals/ga-great-value-va...</td>\n",
              "      <td>Travel</td>\n",
              "      <td>Third - Party</td>\n",
              "    </tr>\n",
              "    <tr>\n",
              "      <th>57898</th>\n",
              "      <td>ga-gate-1-travel-iceland</td>\n",
              "      <td>1030.200</td>\n",
              "      <td>913684.800</td>\n",
              "      <td>2013-10-31</td>\n",
              "      <td>http://www.groupon.com/deals/ga-gate-1-travel-...</td>\n",
              "      <td>Travel</td>\n",
              "      <td>Third - Party</td>\n",
              "    </tr>\n",
              "    <tr>\n",
              "      <th>50474</th>\n",
              "      <td>ga-great-value-vacations-10-ireland-2</td>\n",
              "      <td>1040.000</td>\n",
              "      <td>1023770.000</td>\n",
              "      <td>2013-10-08</td>\n",
              "      <td>http://www.groupon.com/deals/ga-great-value-va...</td>\n",
              "      <td>Travel</td>\n",
              "      <td>Third - Party</td>\n",
              "    </tr>\n",
              "    <tr>\n",
              "      <th>58415</th>\n",
              "      <td>ga-gate-1-travel-23-peru-miami</td>\n",
              "      <td>923.650</td>\n",
              "      <td>1529646.350</td>\n",
              "      <td>2013-11-01</td>\n",
              "      <td>http://www.groupon.com/deals/ga-gate-1-travel-...</td>\n",
              "      <td>Travel</td>\n",
              "      <td>Third - Party</td>\n",
              "    </tr>\n",
              "    <tr>\n",
              "      <th>56577</th>\n",
              "      <td>ga-great-value-vacations-11-ireland-1</td>\n",
              "      <td>1337.600</td>\n",
              "      <td>1552777.400</td>\n",
              "      <td>2013-10-25</td>\n",
              "      <td>http://www.groupon.com/deals/ga-great-value-va...</td>\n",
              "      <td>Travel</td>\n",
              "      <td>Third - Party</td>\n",
              "    </tr>\n",
              "  </tbody>\n",
              "</table>\n",
              "</div>"
            ],
            "text/plain": [
              "                                     Deal ID  Units Sold  ...  Segment Inventory Type\n",
              "68033     ga-great-value-vacations-ireland-1     499.300  ...   Travel  Third - Party\n",
              "57898               ga-gate-1-travel-iceland    1030.200  ...   Travel  Third - Party\n",
              "50474  ga-great-value-vacations-10-ireland-2    1040.000  ...   Travel  Third - Party\n",
              "58415         ga-gate-1-travel-23-peru-miami     923.650  ...   Travel  Third - Party\n",
              "56577  ga-great-value-vacations-11-ireland-1    1337.600  ...   Travel  Third - Party\n",
              "\n",
              "[5 rows x 7 columns]"
            ]
          },
          "metadata": {},
          "execution_count": 271
        }
      ]
    },
    {
      "cell_type": "code",
      "metadata": {
        "colab": {
          "base_uri": "https://localhost:8080/",
          "height": 204
        },
        "id": "YcXNgOLCGu2w",
        "outputId": "eeb0544b-f5c6-4fa8-80c0-52d6322ff8ac"
      },
      "source": [
        "travel.iloc[np.argsort(list(travel['Billings']))[:5]]"
      ],
      "execution_count": 272,
      "outputs": [
        {
          "output_type": "execute_result",
          "data": {
            "text/html": [
              "<div>\n",
              "<style scoped>\n",
              "    .dataframe tbody tr th:only-of-type {\n",
              "        vertical-align: middle;\n",
              "    }\n",
              "\n",
              "    .dataframe tbody tr th {\n",
              "        vertical-align: top;\n",
              "    }\n",
              "\n",
              "    .dataframe thead th {\n",
              "        text-align: right;\n",
              "    }\n",
              "</style>\n",
              "<table border=\"1\" class=\"dataframe\">\n",
              "  <thead>\n",
              "    <tr style=\"text-align: right;\">\n",
              "      <th></th>\n",
              "      <th>Deal ID</th>\n",
              "      <th>Units Sold</th>\n",
              "      <th>Billings</th>\n",
              "      <th>Start Date</th>\n",
              "      <th>Deal URL</th>\n",
              "      <th>Segment</th>\n",
              "      <th>Inventory Type</th>\n",
              "    </tr>\n",
              "  </thead>\n",
              "  <tbody>\n",
              "    <tr>\n",
              "      <th>42305</th>\n",
              "      <td>ga-celebration-cruise-line-46</td>\n",
              "      <td>-424.000</td>\n",
              "      <td>-75024.000</td>\n",
              "      <td>2013-09-17</td>\n",
              "      <td>http://www.groupon.com/deals/ga-celebration-cr...</td>\n",
              "      <td>Travel</td>\n",
              "      <td>Third - Party</td>\n",
              "    </tr>\n",
              "    <tr>\n",
              "      <th>42315</th>\n",
              "      <td>ga-beyond-boundaries-travel-danube-river</td>\n",
              "      <td>-27.700</td>\n",
              "      <td>-63087.300</td>\n",
              "      <td>2013-09-17</td>\n",
              "      <td>http://www.groupon.com/deals/ga-beyond-boundar...</td>\n",
              "      <td>Travel</td>\n",
              "      <td>Third - Party</td>\n",
              "    </tr>\n",
              "    <tr>\n",
              "      <th>37689</th>\n",
              "      <td>ga-affordable-asia-tours-china-thailand</td>\n",
              "      <td>-31.400</td>\n",
              "      <td>-49918.600</td>\n",
              "      <td>2013-08-30</td>\n",
              "      <td>http://www.groupon.com/deals/ga-affordable-asi...</td>\n",
              "      <td>Travel</td>\n",
              "      <td>Third - Party</td>\n",
              "    </tr>\n",
              "    <tr>\n",
              "      <th>40450</th>\n",
              "      <td>ga-earthbox-inn-spa</td>\n",
              "      <td>-271.000</td>\n",
              "      <td>-42965.000</td>\n",
              "      <td>2013-09-10</td>\n",
              "      <td>http://www.groupon.com/deals/ga-earthbox-inn-spa</td>\n",
              "      <td>Travel</td>\n",
              "      <td>Third - Party</td>\n",
              "    </tr>\n",
              "    <tr>\n",
              "      <th>42295</th>\n",
              "      <td>ga-worldwide-vacation-travel-inc</td>\n",
              "      <td>-98.100</td>\n",
              "      <td>-29331.900</td>\n",
              "      <td>2013-09-17</td>\n",
              "      <td>http://www.groupon.com/deals/ga-worldwide-vaca...</td>\n",
              "      <td>Travel</td>\n",
              "      <td>Third - Party</td>\n",
              "    </tr>\n",
              "  </tbody>\n",
              "</table>\n",
              "</div>"
            ],
            "text/plain": [
              "                                        Deal ID  ...  Inventory Type\n",
              "42305             ga-celebration-cruise-line-46  ...   Third - Party\n",
              "42315  ga-beyond-boundaries-travel-danube-river  ...   Third - Party\n",
              "37689   ga-affordable-asia-tours-china-thailand  ...   Third - Party\n",
              "40450                       ga-earthbox-inn-spa  ...   Third - Party\n",
              "42295          ga-worldwide-vacation-travel-inc  ...   Third - Party\n",
              "\n",
              "[5 rows x 7 columns]"
            ]
          },
          "metadata": {},
          "execution_count": 272
        }
      ]
    },
    {
      "cell_type": "code",
      "metadata": {
        "colab": {
          "base_uri": "https://localhost:8080/",
          "height": 211
        },
        "id": "l2P3DJwUGzyQ",
        "outputId": "0019b1c2-d7e9-4dc0-b4a8-51c57325ca2b"
      },
      "source": [
        "plt.figure(figsize=(18,3))\n",
        "_=plt.boxplot(travel['Units Sold'],vert=False)"
      ],
      "execution_count": 274,
      "outputs": [
        {
          "output_type": "display_data",
          "data": {
            "image/png": "[encoded data removed]",
            "text/plain": [
              "<Figure size 1296x216 with 1 Axes>"
            ]
          },
          "metadata": {}
        }
      ]
    },
    {
      "cell_type": "code",
      "metadata": {
        "colab": {
          "base_uri": "https://localhost:8080/",
          "height": 204
        },
        "id": "WyUbiL8bGznq",
        "outputId": "12c9c3f6-ef17-40f8-e664-a727823cb06d"
      },
      "source": [
        "travel.iloc[np.argsort(list(travel['Units Sold']))[-5:]]"
      ],
      "execution_count": 275,
      "outputs": [
        {
          "output_type": "execute_result",
          "data": {
            "text/html": [
              "<div>\n",
              "<style scoped>\n",
              "    .dataframe tbody tr th:only-of-type {\n",
              "        vertical-align: middle;\n",
              "    }\n",
              "\n",
              "    .dataframe tbody tr th {\n",
              "        vertical-align: top;\n",
              "    }\n",
              "\n",
              "    .dataframe thead th {\n",
              "        text-align: right;\n",
              "    }\n",
              "</style>\n",
              "<table border=\"1\" class=\"dataframe\">\n",
              "  <thead>\n",
              "    <tr style=\"text-align: right;\">\n",
              "      <th></th>\n",
              "      <th>Deal ID</th>\n",
              "      <th>Units Sold</th>\n",
              "      <th>Billings</th>\n",
              "      <th>Start Date</th>\n",
              "      <th>Deal URL</th>\n",
              "      <th>Segment</th>\n",
              "      <th>Inventory Type</th>\n",
              "    </tr>\n",
              "  </thead>\n",
              "  <tbody>\n",
              "    <tr>\n",
              "      <th>77896</th>\n",
              "      <td>ga-maui-sands-resort-indoor-waterpark-2-akron-...</td>\n",
              "      <td>2038.000</td>\n",
              "      <td>258684.000</td>\n",
              "      <td>2013-11-24</td>\n",
              "      <td>http://www.groupon.com/deals/ga-maui-sands-res...</td>\n",
              "      <td>Travel</td>\n",
              "      <td>Third - Party</td>\n",
              "    </tr>\n",
              "    <tr>\n",
              "      <th>56203</th>\n",
              "      <td>ga-maui-sands-resort-indoor-waterpark-1</td>\n",
              "      <td>2157.900</td>\n",
              "      <td>266358.500</td>\n",
              "      <td>2013-10-22</td>\n",
              "      <td>http://www.groupon.com/deals/ga-maui-sands-res...</td>\n",
              "      <td>Travel</td>\n",
              "      <td>Third - Party</td>\n",
              "    </tr>\n",
              "    <tr>\n",
              "      <th>94512</th>\n",
              "      <td>ga-maui-sands-resort-indoor-waterpark-1-detroit</td>\n",
              "      <td>2168.800</td>\n",
              "      <td>267612.000</td>\n",
              "      <td>2013-10-31</td>\n",
              "      <td>http://www.groupon.com/deals/ga-maui-sands-res...</td>\n",
              "      <td>Travel</td>\n",
              "      <td>Third - Party</td>\n",
              "    </tr>\n",
              "    <tr>\n",
              "      <th>75729</th>\n",
              "      <td>ga-maui-sands-resort-indoor-waterpark-1-windsor</td>\n",
              "      <td>2168.800</td>\n",
              "      <td>267612.000</td>\n",
              "      <td>2013-11-01</td>\n",
              "      <td>http://www.groupon.com/deals/ga-maui-sands-res...</td>\n",
              "      <td>Travel</td>\n",
              "      <td>Third - Party</td>\n",
              "    </tr>\n",
              "    <tr>\n",
              "      <th>132394</th>\n",
              "      <td>ga-bk-revel-1</td>\n",
              "      <td>3511.800</td>\n",
              "      <td>296715.200</td>\n",
              "      <td>2013-12-23</td>\n",
              "      <td>http://www.groupon.com/deals/ga-bk-revel-1</td>\n",
              "      <td>Travel</td>\n",
              "      <td>Third - Party</td>\n",
              "    </tr>\n",
              "  </tbody>\n",
              "</table>\n",
              "</div>"
            ],
            "text/plain": [
              "                                                  Deal ID  ...  Inventory Type\n",
              "77896   ga-maui-sands-resort-indoor-waterpark-2-akron-...  ...   Third - Party\n",
              "56203             ga-maui-sands-resort-indoor-waterpark-1  ...   Third - Party\n",
              "94512     ga-maui-sands-resort-indoor-waterpark-1-detroit  ...   Third - Party\n",
              "75729     ga-maui-sands-resort-indoor-waterpark-1-windsor  ...   Third - Party\n",
              "132394                                      ga-bk-revel-1  ...   Third - Party\n",
              "\n",
              "[5 rows x 7 columns]"
            ]
          },
          "metadata": {},
          "execution_count": 275
        }
      ]
    },
    {
      "cell_type": "code",
      "metadata": {
        "colab": {
          "base_uri": "https://localhost:8080/",
          "height": 204
        },
        "id": "5bvfB7ZPG995",
        "outputId": "c2c48280-16eb-4d97-fed6-d26b19e3a531"
      },
      "source": [
        "travel.iloc[np.argsort(list(travel['Units Sold']))[:5]]"
      ],
      "execution_count": 276,
      "outputs": [
        {
          "output_type": "execute_result",
          "data": {
            "text/html": [
              "<div>\n",
              "<style scoped>\n",
              "    .dataframe tbody tr th:only-of-type {\n",
              "        vertical-align: middle;\n",
              "    }\n",
              "\n",
              "    .dataframe tbody tr th {\n",
              "        vertical-align: top;\n",
              "    }\n",
              "\n",
              "    .dataframe thead th {\n",
              "        text-align: right;\n",
              "    }\n",
              "</style>\n",
              "<table border=\"1\" class=\"dataframe\">\n",
              "  <thead>\n",
              "    <tr style=\"text-align: right;\">\n",
              "      <th></th>\n",
              "      <th>Deal ID</th>\n",
              "      <th>Units Sold</th>\n",
              "      <th>Billings</th>\n",
              "      <th>Start Date</th>\n",
              "      <th>Deal URL</th>\n",
              "      <th>Segment</th>\n",
              "      <th>Inventory Type</th>\n",
              "    </tr>\n",
              "  </thead>\n",
              "  <tbody>\n",
              "    <tr>\n",
              "      <th>42305</th>\n",
              "      <td>ga-celebration-cruise-line-46</td>\n",
              "      <td>-424.000</td>\n",
              "      <td>-75024.000</td>\n",
              "      <td>2013-09-17</td>\n",
              "      <td>http://www.groupon.com/deals/ga-celebration-cr...</td>\n",
              "      <td>Travel</td>\n",
              "      <td>Third - Party</td>\n",
              "    </tr>\n",
              "    <tr>\n",
              "      <th>40450</th>\n",
              "      <td>ga-earthbox-inn-spa</td>\n",
              "      <td>-271.000</td>\n",
              "      <td>-42965.000</td>\n",
              "      <td>2013-09-10</td>\n",
              "      <td>http://www.groupon.com/deals/ga-earthbox-inn-spa</td>\n",
              "      <td>Travel</td>\n",
              "      <td>Third - Party</td>\n",
              "    </tr>\n",
              "    <tr>\n",
              "      <th>40454</th>\n",
              "      <td>ga-the-lodge-at-the-mountain-village-1</td>\n",
              "      <td>-119.900</td>\n",
              "      <td>-8273.100</td>\n",
              "      <td>2013-09-10</td>\n",
              "      <td>http://www.groupon.com/deals/ga-the-lodge-at-t...</td>\n",
              "      <td>Travel</td>\n",
              "      <td>Third - Party</td>\n",
              "    </tr>\n",
              "    <tr>\n",
              "      <th>42295</th>\n",
              "      <td>ga-worldwide-vacation-travel-inc</td>\n",
              "      <td>-98.100</td>\n",
              "      <td>-29331.900</td>\n",
              "      <td>2013-09-17</td>\n",
              "      <td>http://www.groupon.com/deals/ga-worldwide-vaca...</td>\n",
              "      <td>Travel</td>\n",
              "      <td>Third - Party</td>\n",
              "    </tr>\n",
              "    <tr>\n",
              "      <th>43121</th>\n",
              "      <td>ga-splash-lagoon</td>\n",
              "      <td>-87.200</td>\n",
              "      <td>-10900.000</td>\n",
              "      <td>2013-09-20</td>\n",
              "      <td>http://www.groupon.com/deals/ga-splash-lagoon</td>\n",
              "      <td>Travel</td>\n",
              "      <td>Third - Party</td>\n",
              "    </tr>\n",
              "  </tbody>\n",
              "</table>\n",
              "</div>"
            ],
            "text/plain": [
              "                                      Deal ID  ...  Inventory Type\n",
              "42305           ga-celebration-cruise-line-46  ...   Third - Party\n",
              "40450                     ga-earthbox-inn-spa  ...   Third - Party\n",
              "40454  ga-the-lodge-at-the-mountain-village-1  ...   Third - Party\n",
              "42295        ga-worldwide-vacation-travel-inc  ...   Third - Party\n",
              "43121                        ga-splash-lagoon  ...   Third - Party\n",
              "\n",
              "[5 rows x 7 columns]"
            ]
          },
          "metadata": {},
          "execution_count": 276
        }
      ]
    },
    {
      "cell_type": "code",
      "metadata": {
        "colab": {
          "base_uri": "https://localhost:8080/",
          "height": 211
        },
        "id": "9xbYJsxZHF1j",
        "outputId": "d07f8d16-d2cf-42bc-b327-d4aa3f81380a"
      },
      "source": [
        "plt.figure(figsize=(15,3))\n",
        "_=plt.hist(travel['Start Date'],bins=200)"
      ],
      "execution_count": 278,
      "outputs": [
        {
          "output_type": "display_data",
          "data": {
            "image/png": "[encoded data removed]",
            "text/plain": [
              "<Figure size 1080x216 with 1 Axes>"
            ]
          },
          "metadata": {}
        }
      ]
    },
    {
      "cell_type": "code",
      "metadata": {
        "colab": {
          "base_uri": "https://localhost:8080/"
        },
        "id": "k2Bg11JHHLzN",
        "outputId": "79bc68db-b4be-463a-f08d-d9a5e051c172"
      },
      "source": [
        "travel['Unit Price'] = travel.apply(lambda x: np.nan if x['Billings'] == 0 else x['Billings']/x['Units Sold'], axis=1)"
      ],
      "execution_count": 279,
      "outputs": [
        {
          "output_type": "stream",
          "name": "stderr",
          "text": [
            "/usr/local/lib/python3.7/dist-packages/ipykernel_launcher.py:1: SettingWithCopyWarning: \n",
            "A value is trying to be set on a copy of a slice from a DataFrame.\n",
            "Try using .loc[row_indexer,col_indexer] = value instead\n",
            "\n",
            "See the caveats in the documentation: https://pandas.pydata.org/pandas-docs/stable/user_guide/indexing.html#returning-a-view-versus-a-copy\n",
            "  \"\"\"Entry point for launching an IPython kernel.\n"
          ]
        }
      ]
    },
    {
      "cell_type": "code",
      "metadata": {
        "colab": {
          "base_uri": "https://localhost:8080/",
          "height": 224
        },
        "id": "ekSaspNgHT7L",
        "outputId": "eb8a903b-9343-4f7c-f9b7-83b75bf4767e"
      },
      "source": [
        "cleanedList = [x for x in list(travel['Unit Price']) if str(x) != 'nan']\n",
        "plt.figure(figsize=(18,3))\n",
        "_=plt.boxplot(cleanedList,vert=False)"
      ],
      "execution_count": 280,
      "outputs": [
        {
          "output_type": "display_data",
          "data": {
            "image/png": "[encoded data removed]",
            "text/plain": [
              "<Figure size 1296x216 with 1 Axes>"
            ]
          },
          "metadata": {}
        }
      ]
    },
    {
      "cell_type": "code",
      "metadata": {
        "colab": {
          "base_uri": "https://localhost:8080/",
          "height": 204
        },
        "id": "-GIQgawfHZNM",
        "outputId": "d0ff0045-9570-47e0-a567-013e78d1b49c"
      },
      "source": [
        "travel.iloc[np.argsort(list(travel['Unit Price']))[:5]]"
      ],
      "execution_count": 283,
      "outputs": [
        {
          "output_type": "execute_result",
          "data": {
            "text/html": [
              "<div>\n",
              "<style scoped>\n",
              "    .dataframe tbody tr th:only-of-type {\n",
              "        vertical-align: middle;\n",
              "    }\n",
              "\n",
              "    .dataframe tbody tr th {\n",
              "        vertical-align: top;\n",
              "    }\n",
              "\n",
              "    .dataframe thead th {\n",
              "        text-align: right;\n",
              "    }\n",
              "</style>\n",
              "<table border=\"1\" class=\"dataframe\">\n",
              "  <thead>\n",
              "    <tr style=\"text-align: right;\">\n",
              "      <th></th>\n",
              "      <th>Deal ID</th>\n",
              "      <th>Units Sold</th>\n",
              "      <th>Billings</th>\n",
              "      <th>Start Date</th>\n",
              "      <th>Deal URL</th>\n",
              "      <th>Segment</th>\n",
              "      <th>Inventory Type</th>\n",
              "      <th>Unit Price</th>\n",
              "    </tr>\n",
              "  </thead>\n",
              "  <tbody>\n",
              "    <tr>\n",
              "      <th>122239</th>\n",
              "      <td>ga-bk-fiesta-henderson</td>\n",
              "      <td>74.400</td>\n",
              "      <td>1041.600</td>\n",
              "      <td>2013-12-23</td>\n",
              "      <td>http://www.groupon.com/deals/ga-bk-fiesta-hend...</td>\n",
              "      <td>Travel</td>\n",
              "      <td>Third - Party</td>\n",
              "      <td>14.000</td>\n",
              "    </tr>\n",
              "    <tr>\n",
              "      <th>76089</th>\n",
              "      <td>ga-bk-palace-station-hotel-casino-2</td>\n",
              "      <td>468.700</td>\n",
              "      <td>6867.000</td>\n",
              "      <td>2013-11-05</td>\n",
              "      <td>http://www.groupon.com/deals/ga-bk-palace-stat...</td>\n",
              "      <td>Travel</td>\n",
              "      <td>Third - Party</td>\n",
              "      <td>14.651</td>\n",
              "    </tr>\n",
              "    <tr>\n",
              "      <th>94196</th>\n",
              "      <td>ga-bk-boulder-station-hotel-casino-2</td>\n",
              "      <td>99.200</td>\n",
              "      <td>1587.200</td>\n",
              "      <td>2013-10-29</td>\n",
              "      <td>http://www.groupon.com/deals/ga-bk-boulder-sta...</td>\n",
              "      <td>Travel</td>\n",
              "      <td>Third - Party</td>\n",
              "      <td>16.000</td>\n",
              "    </tr>\n",
              "    <tr>\n",
              "      <th>130263</th>\n",
              "      <td>ga-bk-palace-station-hotel-casino-3</td>\n",
              "      <td>457.800</td>\n",
              "      <td>7706.300</td>\n",
              "      <td>2013-12-17</td>\n",
              "      <td>http://www.groupon.com/deals/ga-bk-palace-stat...</td>\n",
              "      <td>Travel</td>\n",
              "      <td>Third - Party</td>\n",
              "      <td>16.833</td>\n",
              "    </tr>\n",
              "    <tr>\n",
              "      <th>94148</th>\n",
              "      <td>ga-avis-car-rental-orlando</td>\n",
              "      <td>1820.000</td>\n",
              "      <td>36400.000</td>\n",
              "      <td>2013-10-29</td>\n",
              "      <td>http://www.groupon.com/deals/ga-avis-car-renta...</td>\n",
              "      <td>Travel</td>\n",
              "      <td>Third - Party</td>\n",
              "      <td>20.000</td>\n",
              "    </tr>\n",
              "  </tbody>\n",
              "</table>\n",
              "</div>"
            ],
            "text/plain": [
              "                                     Deal ID  ...  Unit Price\n",
              "122239                ga-bk-fiesta-henderson  ...      14.000\n",
              "76089    ga-bk-palace-station-hotel-casino-2  ...      14.651\n",
              "94196   ga-bk-boulder-station-hotel-casino-2  ...      16.000\n",
              "130263   ga-bk-palace-station-hotel-casino-3  ...      16.833\n",
              "94148             ga-avis-car-rental-orlando  ...      20.000\n",
              "\n",
              "[5 rows x 8 columns]"
            ]
          },
          "metadata": {},
          "execution_count": 283
        }
      ]
    },
    {
      "cell_type": "code",
      "metadata": {
        "colab": {
          "base_uri": "https://localhost:8080/",
          "height": 142
        },
        "id": "Tjt-957RHbdG",
        "outputId": "f7144176-136e-47d1-ba01-1a627258b846"
      },
      "source": [
        "travel.iloc[np.argsort(list(travel['Unit Price']))[-470:-467]]"
      ],
      "execution_count": 301,
      "outputs": [
        {
          "output_type": "execute_result",
          "data": {
            "text/html": [
              "<div>\n",
              "<style scoped>\n",
              "    .dataframe tbody tr th:only-of-type {\n",
              "        vertical-align: middle;\n",
              "    }\n",
              "\n",
              "    .dataframe tbody tr th {\n",
              "        vertical-align: top;\n",
              "    }\n",
              "\n",
              "    .dataframe thead th {\n",
              "        text-align: right;\n",
              "    }\n",
              "</style>\n",
              "<table border=\"1\" class=\"dataframe\">\n",
              "  <thead>\n",
              "    <tr style=\"text-align: right;\">\n",
              "      <th></th>\n",
              "      <th>Deal ID</th>\n",
              "      <th>Units Sold</th>\n",
              "      <th>Billings</th>\n",
              "      <th>Start Date</th>\n",
              "      <th>Deal URL</th>\n",
              "      <th>Segment</th>\n",
              "      <th>Inventory Type</th>\n",
              "      <th>Unit Price</th>\n",
              "    </tr>\n",
              "  </thead>\n",
              "  <tbody>\n",
              "    <tr>\n",
              "      <th>42384</th>\n",
              "      <td>ga-kenai-peninsula-suites</td>\n",
              "      <td>0.000</td>\n",
              "      <td>1488.000</td>\n",
              "      <td>2013-09-17</td>\n",
              "      <td>http://www.groupon.com/deals/ga-kenai-peninsul...</td>\n",
              "      <td>Travel</td>\n",
              "      <td>Third - Party</td>\n",
              "      <td>209417382672728192.000</td>\n",
              "    </tr>\n",
              "    <tr>\n",
              "      <th>42300</th>\n",
              "      <td>ga-chachagua-rainforest-hotel-hacienda-1</td>\n",
              "      <td>0.000</td>\n",
              "      <td>1641.400</td>\n",
              "      <td>2013-09-17</td>\n",
              "      <td>http://www.groupon.com/deals/ga-chachagua-rain...</td>\n",
              "      <td>Travel</td>\n",
              "      <td>Third - Party</td>\n",
              "      <td>2464069476121977344.000</td>\n",
              "    </tr>\n",
              "    <tr>\n",
              "      <th>42291</th>\n",
              "      <td>ga-ambergris-dive-resort-1</td>\n",
              "      <td>0.000</td>\n",
              "      <td>1537.000</td>\n",
              "      <td>2013-09-17</td>\n",
              "      <td>http://www.groupon.com/deals/ga-ambergris-dive...</td>\n",
              "      <td>Travel</td>\n",
              "      <td>Third - Party</td>\n",
              "      <td>3461016313634226688.000</td>\n",
              "    </tr>\n",
              "  </tbody>\n",
              "</table>\n",
              "</div>"
            ],
            "text/plain": [
              "                                        Deal ID  ...              Unit Price\n",
              "42384                 ga-kenai-peninsula-suites  ...  209417382672728192.000\n",
              "42300  ga-chachagua-rainforest-hotel-hacienda-1  ... 2464069476121977344.000\n",
              "42291                ga-ambergris-dive-resort-1  ... 3461016313634226688.000\n",
              "\n",
              "[3 rows x 8 columns]"
            ]
          },
          "metadata": {},
          "execution_count": 301
        }
      ]
    },
    {
      "cell_type": "code",
      "metadata": {
        "colab": {
          "base_uri": "https://localhost:8080/",
          "height": 211
        },
        "id": "-_fFAaJYHnUY",
        "outputId": "794302e2-7102-42f2-ee53-504d7bf85c47"
      },
      "source": [
        "cleanedList = [x for x in list(travel.iloc[np.argsort(list(travel['Unit Price']))[:-470]]['Unit Price']) if str(x) != 'nan']\n",
        "plt.figure(figsize=(18,3))\n",
        "_=plt.boxplot(cleanedList,vert=False)"
      ],
      "execution_count": 315,
      "outputs": [
        {
          "output_type": "display_data",
          "data": {
            "image/png": "[encoded data removed]",
            "text/plain": [
              "<Figure size 1296x216 with 1 Axes>"
            ]
          },
          "metadata": {}
        }
      ]
    },
    {
      "cell_type": "markdown",
      "metadata": {
        "id": "XFaXyJo9IvgJ"
      },
      "source": [
        "## Remove deals with small units sold "
      ]
    },
    {
      "cell_type": "code",
      "metadata": {
        "colab": {
          "base_uri": "https://localhost:8080/",
          "height": 824
        },
        "id": "L1hESvFMI1n6",
        "outputId": "af869a6a-c949-4b00-f2db-4b2e81ac97e7"
      },
      "source": [
        "df[(df['Units Sold']>0)& (df['Units Sold']<0.1)&(df['Billings'] > 0.1)]"
      ],
      "execution_count": 326,
      "outputs": [
        {
          "output_type": "execute_result",
          "data": {
            "text/html": [
              "<div>\n",
              "<style scoped>\n",
              "    .dataframe tbody tr th:only-of-type {\n",
              "        vertical-align: middle;\n",
              "    }\n",
              "\n",
              "    .dataframe tbody tr th {\n",
              "        vertical-align: top;\n",
              "    }\n",
              "\n",
              "    .dataframe thead th {\n",
              "        text-align: right;\n",
              "    }\n",
              "</style>\n",
              "<table border=\"1\" class=\"dataframe\">\n",
              "  <thead>\n",
              "    <tr style=\"text-align: right;\">\n",
              "      <th></th>\n",
              "      <th>Deal ID</th>\n",
              "      <th>Units Sold</th>\n",
              "      <th>Billings</th>\n",
              "      <th>Start Date</th>\n",
              "      <th>Deal URL</th>\n",
              "      <th>Segment</th>\n",
              "      <th>Inventory Type</th>\n",
              "      <th>remove_www</th>\n",
              "    </tr>\n",
              "  </thead>\n",
              "  <tbody>\n",
              "    <tr>\n",
              "      <th>14266</th>\n",
              "      <td>charles-river-charters</td>\n",
              "      <td>0.000</td>\n",
              "      <td>1488.000</td>\n",
              "      <td>2013-04-10</td>\n",
              "      <td>http://www.groupon.com/deals/charles-river-cha...</td>\n",
              "      <td>Local</td>\n",
              "      <td>Third - Party</td>\n",
              "      <td>charles-river-charters</td>\n",
              "    </tr>\n",
              "    <tr>\n",
              "      <th>15655</th>\n",
              "      <td>gg-petstages-dog-toys-2</td>\n",
              "      <td>0.000</td>\n",
              "      <td>278.760</td>\n",
              "      <td>2013-04-24</td>\n",
              "      <td>http://www.groupon.com/deals/gg-petstages-dog-...</td>\n",
              "      <td>Goods</td>\n",
              "      <td>First - Party</td>\n",
              "      <td>gg-petstages-dog-toys-2</td>\n",
              "    </tr>\n",
              "    <tr>\n",
              "      <th>15877</th>\n",
              "      <td>cinestores-com-1-stlouis</td>\n",
              "      <td>0.000</td>\n",
              "      <td>58.000</td>\n",
              "      <td>2013-04-29</td>\n",
              "      <td>http://www.groupon.com/deals/cinestores-com-1-...</td>\n",
              "      <td>Local</td>\n",
              "      <td>Third - Party</td>\n",
              "      <td>cinestores-com-1-stlouis</td>\n",
              "    </tr>\n",
              "    <tr>\n",
              "      <th>15933</th>\n",
              "      <td>gg-ca-jbw-mixed-diamond-watches</td>\n",
              "      <td>0.000</td>\n",
              "      <td>86.710</td>\n",
              "      <td>2013-05-01</td>\n",
              "      <td>http://www.groupon.com/deals/gg-ca-jbw-mixed-d...</td>\n",
              "      <td>Goods</td>\n",
              "      <td>First - Party</td>\n",
              "      <td>gg-ca-jbw-mixed-diamond-watches</td>\n",
              "    </tr>\n",
              "    <tr>\n",
              "      <th>17512</th>\n",
              "      <td>it-university-online-41-saskatoon</td>\n",
              "      <td>0.000</td>\n",
              "      <td>11.310</td>\n",
              "      <td>2013-05-22</td>\n",
              "      <td>http://www.groupon.com/deals/it-university-onl...</td>\n",
              "      <td>Local</td>\n",
              "      <td>Third - Party</td>\n",
              "      <td>it-university-online-41-saskatoon</td>\n",
              "    </tr>\n",
              "    <tr>\n",
              "      <th>18892</th>\n",
              "      <td>made-ya-look</td>\n",
              "      <td>0.000</td>\n",
              "      <td>2659.600</td>\n",
              "      <td>2013-05-30</td>\n",
              "      <td>http://www.groupon.com/deals/made-ya-look</td>\n",
              "      <td>Local</td>\n",
              "      <td>Third - Party</td>\n",
              "      <td>made-ya-look</td>\n",
              "    </tr>\n",
              "    <tr>\n",
              "      <th>20169</th>\n",
              "      <td>great-river-road-golf-club-nauvoo</td>\n",
              "      <td>0.000</td>\n",
              "      <td>58.000</td>\n",
              "      <td>2013-06-06</td>\n",
              "      <td>http://www.groupon.com/deals/great-river-road-...</td>\n",
              "      <td>Local</td>\n",
              "      <td>Third - Party</td>\n",
              "      <td>great-river-road-golf-club-nauvoo</td>\n",
              "    </tr>\n",
              "    <tr>\n",
              "      <th>20852</th>\n",
              "      <td>jazzercise-us-south-bend</td>\n",
              "      <td>0.000</td>\n",
              "      <td>43.500</td>\n",
              "      <td>2013-06-10</td>\n",
              "      <td>http://www.groupon.com/deals/jazzercise-us-sou...</td>\n",
              "      <td>Local</td>\n",
              "      <td>Third - Party</td>\n",
              "      <td>jazzercise-us-south-bend</td>\n",
              "    </tr>\n",
              "    <tr>\n",
              "      <th>20895</th>\n",
              "      <td>jazzercise-us-evansville</td>\n",
              "      <td>0.000</td>\n",
              "      <td>72.500</td>\n",
              "      <td>2013-06-10</td>\n",
              "      <td>http://www.groupon.com/deals/jazzercise-us-eva...</td>\n",
              "      <td>Local</td>\n",
              "      <td>Third - Party</td>\n",
              "      <td>jazzercise-us-evansville</td>\n",
              "    </tr>\n",
              "    <tr>\n",
              "      <th>21407</th>\n",
              "      <td>suna-salon-spa-4</td>\n",
              "      <td>0.000</td>\n",
              "      <td>102.950</td>\n",
              "      <td>2013-06-13</td>\n",
              "      <td>http://www.groupon.com/deals/suna-salon-spa-4</td>\n",
              "      <td>Local</td>\n",
              "      <td>Third - Party</td>\n",
              "      <td>suna-salon-spa-4</td>\n",
              "    </tr>\n",
              "    <tr>\n",
              "      <th>23281</th>\n",
              "      <td>spa-and-the-city-1</td>\n",
              "      <td>0.000</td>\n",
              "      <td>25.750</td>\n",
              "      <td>2013-06-22</td>\n",
              "      <td>http://www.groupon.com/deals/spa-and-the-city-1</td>\n",
              "      <td>Local</td>\n",
              "      <td>Third - Party</td>\n",
              "      <td>spa-and-the-city-1</td>\n",
              "    </tr>\n",
              "    <tr>\n",
              "      <th>25880</th>\n",
              "      <td>gg-evening-clutch-handbag</td>\n",
              "      <td>0.000</td>\n",
              "      <td>40.020</td>\n",
              "      <td>2013-07-06</td>\n",
              "      <td>http://www.groupon.com/deals/gg-evening-clutch...</td>\n",
              "      <td>Goods</td>\n",
              "      <td>First - Party</td>\n",
              "      <td>gg-evening-clutch-handbag</td>\n",
              "    </tr>\n",
              "    <tr>\n",
              "      <th>27351</th>\n",
              "      <td>aphrodite-skin-solutions-3</td>\n",
              "      <td>0.000</td>\n",
              "      <td>205.900</td>\n",
              "      <td>2013-07-13</td>\n",
              "      <td>http://www.groupon.com/deals/aphrodite-skin-so...</td>\n",
              "      <td>Local</td>\n",
              "      <td>Third - Party</td>\n",
              "      <td>aphrodite-skin-solutions-3</td>\n",
              "    </tr>\n",
              "    <tr>\n",
              "      <th>29589</th>\n",
              "      <td>niramish-1</td>\n",
              "      <td>0.000</td>\n",
              "      <td>572.250</td>\n",
              "      <td>2013-07-25</td>\n",
              "      <td>http://www.groupon.com/deals/niramish-1</td>\n",
              "      <td>Local</td>\n",
              "      <td>Third - Party</td>\n",
              "      <td>niramish-1</td>\n",
              "    </tr>\n",
              "    <tr>\n",
              "      <th>39942</th>\n",
              "      <td>roberts-salon-and-spa</td>\n",
              "      <td>0.000</td>\n",
              "      <td>29.000</td>\n",
              "      <td>2013-09-09</td>\n",
              "      <td>http://www.groupon.com/deals/roberts-salon-and...</td>\n",
              "      <td>Local</td>\n",
              "      <td>Third - Party</td>\n",
              "      <td>roberts-salon-and-spa</td>\n",
              "    </tr>\n",
              "    <tr>\n",
              "      <th>40636</th>\n",
              "      <td>laura-chittick-at-shear-bliss</td>\n",
              "      <td>0.000</td>\n",
              "      <td>359.600</td>\n",
              "      <td>2013-09-11</td>\n",
              "      <td>http://www.groupon.com/deals/laura-chittick-at...</td>\n",
              "      <td>Local</td>\n",
              "      <td>Third - Party</td>\n",
              "      <td>laura-chittick-at-shear-bliss</td>\n",
              "    </tr>\n",
              "    <tr>\n",
              "      <th>42291</th>\n",
              "      <td>ga-ambergris-dive-resort-1</td>\n",
              "      <td>0.000</td>\n",
              "      <td>1537.000</td>\n",
              "      <td>2013-09-17</td>\n",
              "      <td>http://www.groupon.com/deals/ga-ambergris-dive...</td>\n",
              "      <td>Travel</td>\n",
              "      <td>Third - Party</td>\n",
              "      <td>ga-ambergris-dive-resort-1</td>\n",
              "    </tr>\n",
              "    <tr>\n",
              "      <th>42300</th>\n",
              "      <td>ga-chachagua-rainforest-hotel-hacienda-1</td>\n",
              "      <td>0.000</td>\n",
              "      <td>1641.400</td>\n",
              "      <td>2013-09-17</td>\n",
              "      <td>http://www.groupon.com/deals/ga-chachagua-rain...</td>\n",
              "      <td>Travel</td>\n",
              "      <td>Third - Party</td>\n",
              "      <td>ga-chachagua-rainforest-hotel-hacienda-1</td>\n",
              "    </tr>\n",
              "    <tr>\n",
              "      <th>42384</th>\n",
              "      <td>ga-kenai-peninsula-suites</td>\n",
              "      <td>0.000</td>\n",
              "      <td>1488.000</td>\n",
              "      <td>2013-09-17</td>\n",
              "      <td>http://www.groupon.com/deals/ga-kenai-peninsul...</td>\n",
              "      <td>Travel</td>\n",
              "      <td>Third - Party</td>\n",
              "      <td>ga-kenai-peninsula-suites</td>\n",
              "    </tr>\n",
              "    <tr>\n",
              "      <th>44587</th>\n",
              "      <td>skin-matters-16</td>\n",
              "      <td>0.000</td>\n",
              "      <td>145.000</td>\n",
              "      <td>2013-09-25</td>\n",
              "      <td>http://www.groupon.com/deals/skin-matters-16</td>\n",
              "      <td>Local</td>\n",
              "      <td>Third - Party</td>\n",
              "      <td>skin-matters-16</td>\n",
              "    </tr>\n",
              "    <tr>\n",
              "      <th>84190</th>\n",
              "      <td>space-golf-5</td>\n",
              "      <td>0.000</td>\n",
              "      <td>174.400</td>\n",
              "      <td>2013-04-22</td>\n",
              "      <td>http://www.groupon.com/deals/space-golf-5</td>\n",
              "      <td>Local</td>\n",
              "      <td>Third - Party</td>\n",
              "      <td>space-golf-5</td>\n",
              "    </tr>\n",
              "    <tr>\n",
              "      <th>89145</th>\n",
              "      <td>bottom-up-entertainment</td>\n",
              "      <td>0.000</td>\n",
              "      <td>37.700</td>\n",
              "      <td>2013-08-17</td>\n",
              "      <td>http://www.groupon.com/deals/bottom-up-enterta...</td>\n",
              "      <td>Local</td>\n",
              "      <td>Third - Party</td>\n",
              "      <td>bottom-up-entertainment</td>\n",
              "    </tr>\n",
              "    <tr>\n",
              "      <th>95224</th>\n",
              "      <td>gourmet2yourdoor-com-2</td>\n",
              "      <td>0.000</td>\n",
              "      <td>290.000</td>\n",
              "      <td>2013-09-13</td>\n",
              "      <td>http://www.groupon.com/deals/gourmet2yourdoor-...</td>\n",
              "      <td>Local</td>\n",
              "      <td>Third - Party</td>\n",
              "      <td>gourmet2yourdoor-com-2</td>\n",
              "    </tr>\n",
              "    <tr>\n",
              "      <th>99189</th>\n",
              "      <td>magic-moment-photo-booth</td>\n",
              "      <td>0.000</td>\n",
              "      <td>217.500</td>\n",
              "      <td>2013-06-20</td>\n",
              "      <td>http://www.groupon.com/deals/magic-moment-phot...</td>\n",
              "      <td>Local</td>\n",
              "      <td>Third - Party</td>\n",
              "      <td>magic-moment-photo-booth</td>\n",
              "    </tr>\n",
              "    <tr>\n",
              "      <th>105465</th>\n",
              "      <td>stagecraft-llc</td>\n",
              "      <td>0.000</td>\n",
              "      <td>43.500</td>\n",
              "      <td>2013-06-30</td>\n",
              "      <td>http://www.groupon.com/deals/stagecraft-llc</td>\n",
              "      <td>Local</td>\n",
              "      <td>Third - Party</td>\n",
              "      <td>stagecraft-llc</td>\n",
              "    </tr>\n",
              "  </tbody>\n",
              "</table>\n",
              "</div>"
            ],
            "text/plain": [
              "                                         Deal ID  ...                                remove_www\n",
              "14266                     charles-river-charters  ...                    charles-river-charters\n",
              "15655                    gg-petstages-dog-toys-2  ...                   gg-petstages-dog-toys-2\n",
              "15877                   cinestores-com-1-stlouis  ...                  cinestores-com-1-stlouis\n",
              "15933            gg-ca-jbw-mixed-diamond-watches  ...           gg-ca-jbw-mixed-diamond-watches\n",
              "17512          it-university-online-41-saskatoon  ...         it-university-online-41-saskatoon\n",
              "18892                               made-ya-look  ...                              made-ya-look\n",
              "20169          great-river-road-golf-club-nauvoo  ...         great-river-road-golf-club-nauvoo\n",
              "20852                   jazzercise-us-south-bend  ...                  jazzercise-us-south-bend\n",
              "20895                   jazzercise-us-evansville  ...                  jazzercise-us-evansville\n",
              "21407                           suna-salon-spa-4  ...                          suna-salon-spa-4\n",
              "23281                         spa-and-the-city-1  ...                        spa-and-the-city-1\n",
              "25880                  gg-evening-clutch-handbag  ...                 gg-evening-clutch-handbag\n",
              "27351                 aphrodite-skin-solutions-3  ...                aphrodite-skin-solutions-3\n",
              "29589                                 niramish-1  ...                                niramish-1\n",
              "39942                      roberts-salon-and-spa  ...                     roberts-salon-and-spa\n",
              "40636              laura-chittick-at-shear-bliss  ...             laura-chittick-at-shear-bliss\n",
              "42291                 ga-ambergris-dive-resort-1  ...                ga-ambergris-dive-resort-1\n",
              "42300   ga-chachagua-rainforest-hotel-hacienda-1  ...  ga-chachagua-rainforest-hotel-hacienda-1\n",
              "42384                  ga-kenai-peninsula-suites  ...                 ga-kenai-peninsula-suites\n",
              "44587                            skin-matters-16  ...                           skin-matters-16\n",
              "84190                               space-golf-5  ...                              space-golf-5\n",
              "89145                    bottom-up-entertainment  ...                   bottom-up-entertainment\n",
              "95224                     gourmet2yourdoor-com-2  ...                    gourmet2yourdoor-com-2\n",
              "99189                   magic-moment-photo-booth  ...                  magic-moment-photo-booth\n",
              "105465                            stagecraft-llc  ...                            stagecraft-llc\n",
              "\n",
              "[25 rows x 8 columns]"
            ]
          },
          "metadata": {},
          "execution_count": 326
        }
      ]
    }
  ]
}